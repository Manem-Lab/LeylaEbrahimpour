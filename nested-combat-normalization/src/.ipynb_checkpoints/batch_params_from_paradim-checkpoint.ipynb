{
 "cells": [
  {
   "cell_type": "code",
   "execution_count": 1,
   "id": "72296cdb-04de-4b42-b365-e1f6b5b7f6ba",
   "metadata": {
    "tags": []
   },
   "outputs": [],
   "source": [
    "import os\n",
    "import csv\n",
    "import SimpleITK as sitk\n",
    "import six\n",
    "from radiomics import featureextractor, getTestCase\n",
    "from radiomics.featureextractor import RadiomicsFeatureExtractor\n",
    "import numpy as np\n",
    "import pandas as pd\n",
    "from pathlib import Path\n",
    "import matplotlib.pyplot as plt \n",
    "import pydicom\n",
    "from pydicom import dcmread\n",
    "import dicom2nifti\n",
    "import pydicom_seg\n",
    "import io\n",
    "import tempfile\n",
    "import gc\n",
    "import time\n",
    "import shutil\n",
    "import openpyxl\n",
    "from dicomweb_client.api import DICOMwebClient\n",
    "import dicom2nifti.settings as settings"
   ]
  },
  {
   "cell_type": "code",
   "execution_count": 2,
   "id": "a86b3c77-1cc9-45ea-b203-e43d12e38a26",
   "metadata": {
    "tags": []
   },
   "outputs": [],
   "source": [
    "settings. disable_validate_slice_increment()\n",
    "#pydicom.config.pixel_data_handlers = ['gdcm_handler']\n",
    "\n",
    "# get the start timen_jobs\n",
    "\n",
    "st = time.time()\n",
    "#tmp_dir = os.getenv(\"SLURM_TMPDIR\")                \n",
    "# Define the float format\n",
    "#float_format = '%.5f'\n",
    "\n",
    "#path the main directory\n",
    "main_dir= \"/home/ulaval.ca/lesee/projects/Project-CNET/\"\n",
    "\n",
    "auth_token= 'YenuGm9Uk8Oekc5uPt1cBa'\n",
    "header = {'Authorization': 'Bearer ' + auth_token}\n",
    "\n",
    "#giving the path of web-based dicom files\n",
    "url=\"https://platform.paradim.science/api\"\n",
    "\n",
    "client_dcm = DICOMwebClient(url = url, headers = header)\n",
    "\n",
    "all_studies =[]\n",
    "data = pd.read_csv(os.path.join(main_dir,'data/patients_id_cnet.csv'))\n",
    "patient_ids = data['PatientName']"
   ]
  },
  {
   "cell_type": "code",
   "execution_count": 5,
   "id": "9d9b7b35-1ac8-4dda-a2d3-9c91f6f63e64",
   "metadata": {
    "tags": []
   },
   "outputs": [],
   "source": [
    "search_filters = {'PatientName':'BT-02970'}\n",
    "studies = client_dcm.search_for_studies(search_filters=search_filters)\n",
    "all_studies.extend(studies)"
   ]
  },
  {
   "cell_type": "code",
   "execution_count": 6,
   "id": "1d7c86c3-28d1-4171-9aa8-428ab62f9c4e",
   "metadata": {
    "tags": []
   },
   "outputs": [
    {
     "name": "stdout",
     "output_type": "stream",
     "text": [
      "1\n"
     ]
    }
   ],
   "source": [
    "print(len(all_studies))"
   ]
  },
  {
   "cell_type": "code",
   "execution_count": 7,
   "id": "f5e4cdb6-2479-4457-b42d-5660b32c7fae",
   "metadata": {
    "tags": []
   },
   "outputs": [
    {
     "name": "stdout",
     "output_type": "stream",
     "text": [
      "Study No. =  1\n",
      "Patient Name =  BT-02970\n",
      "Thorax  2.0  B40f\n",
      "Execution time: 60.883822202682495 seconds\n"
     ]
    }
   ],
   "source": [
    "studies_dicom = [pydicom.dataset.Dataset.from_json(d) for d in all_studies]\n",
    "\n",
    "seg_modality = ['SEG']\n",
    "CT_modality = ['CT']\n",
    "\n",
    "#combat_params_total = []\n",
    "#index_studies = []\n",
    "\n",
    "#combat_key = ['PatientName', 'manufacturer', 'model', 'kernel', 'slice_thickness', 'pixel_spacing']\n",
    "combat_key = ['PatientName', 'PatientID', 'StudyDate', 'StudyInstanceUID', 'SeriesInstanceUID', 'SeriesDescription', 'ImageType', 'Manufacturer', 'ModelName', 'ConvolutionKernel',\n",
    "                  'ReconDiameter','SliceThickness', 'kVp','mAs', 'PixelSpacing']\n",
    "\n",
    "with open(os.path.join(main_dir,'results/combat_params_cnet_updated_new_1.csv'), mode='w', newline='') as csv_file1:\n",
    "    csv_writer_params = csv.writer(csv_file1)\n",
    "    csv_writer_params.writerow(combat_key)\n",
    "\n",
    "    #to check studies case by case\n",
    "    for num_std , study_dicom in enumerate(studies_dicom): \n",
    "        print('Study No. = ', num_std+1 )\n",
    "        study_instance_uid = study_dicom['StudyInstanceUID'].value\n",
    "        patient_ID = study_dicom['PatientID'].value\n",
    "        study_date = study_dicom['StudyDate'].value        \n",
    "        patient_name = study_dicom['PatientName'].value         \n",
    "        print('Patient Name = ', patient_name )\n",
    "        metadata_study = client_dcm.retrieve_study_metadata(study_instance_uid = study_instance_uid)\n",
    "        modality_values = study_dicom[\"00080061\"]       \n",
    "        if any('SEG' in modality for modality in modality_values):\n",
    "    #        print(modality_values)\n",
    "            for meta_instance in metadata_study:\n",
    "            #Find the SEG (Segmentation) object with the SOP Class UID which is typically '1.2.840.10008.5.1.4.1.1.66.4' for SEG files.            \n",
    "                if meta_instance['00080016']['Value'][0] == '1.2.840.10008.5.1.4.1.1.66.4':\n",
    "                    # This is a SEG file\n",
    "                    SeriesInstanceUID_seg = meta_instance[\"00081115\"][\"Value\"][0]['0020000E']['Value'][0]           \n",
    "                else:\n",
    "                    continue   \n",
    "            #find the segmentation dicom dataset        \n",
    "            series = client_dcm.search_for_series(study_instance_uid=study_instance_uid)\n",
    "        #    print(series[6])\n",
    "            num_seg = 0\n",
    "            for serie in series:\n",
    "                series_CT_dicom = pydicom.dataset.Dataset.from_json(serie)\n",
    "                if series_CT_dicom.Modality in seg_modality:\n",
    "                    num_seg +=1\n",
    "\n",
    "                    #find the references CT series corresponding to the SEG binary image \n",
    "                if not series_CT_dicom.Modality in seg_modality:\n",
    "                    instances_ct = client_dcm.retrieve_series(study_instance_uid = study_instance_uid,\n",
    "                        series_instance_uid = series_CT_dicom['SeriesInstanceUID'].value)\n",
    "\n",
    "                    if instances_ct[0][0x0020000e].value == SeriesInstanceUID_seg:\n",
    "\n",
    "                        print(series_CT_dicom.SeriesDescription)\n",
    "    #                    print(instances[0])\n",
    "                        series_instance_uid = series_CT_dicom['SeriesInstanceUID'].value\n",
    "                        sereies_description = series_CT_dicom.SeriesDescription\n",
    "                        image_type = instances_ct[0][0x00080008].value\n",
    "                        manufacturer = instances_ct[0][0x00080070].value\n",
    "                        model_name = instances_ct[0][0x00081090].value\n",
    "                        convolution_kernel = instances_ct[0][0x00181210].value\n",
    "                        recon_diameter = instances_ct[0][0x00181100].value\n",
    "                        slice_thickness = instances_ct[0][0x00180050].value\n",
    "                        kVp = instances_ct[0][0x00180060].value\n",
    "                        mAs = instances_ct[0][0x00181152].value\n",
    "                        pixel_spacing = instances_ct[0][0x00280030].value\n",
    "                        \n",
    "\n",
    "                        combat_param = [patient_name, patient_ID, study_date, study_instance_uid, series_instance_uid, sereies_description, image_type,  manufacturer, model_name, convolution_kernel,\n",
    "                                        recon_diameter, slice_thickness, kVp, mAs, pixel_spacing]\n",
    "#                        combat_params_total.append(combat_param)\n",
    "#                        index_studies.append(num_std+1)                    \n",
    "#                        instances_CT = instances\n",
    "            if num_seg >1:\n",
    "    #            studies_two_seg.append(patient_name)\n",
    "                print('Patient Name with more than 1 segmentation file = ', patient_name )\n",
    "                continue\n",
    "        else: \n",
    "\n",
    "            print (\"no SEG file for this study\")\n",
    "            continue\n",
    "        csv_writer_params.writerow(combat_param)\n",
    "\n",
    "# get the end time\n",
    "et = time.time()\n",
    "\n",
    "# get the execution time\n",
    "elapsed_time = et - st\n",
    "print('Execution time:', elapsed_time, 'seconds')        \n"
   ]
  },
  {
   "cell_type": "code",
   "execution_count": null,
   "id": "7e7ed1f4-cc2a-4794-83d2-6e3acab40ef9",
   "metadata": {},
   "outputs": [],
   "source": []
  }
 ],
 "metadata": {
  "kernelspec": {
   "display_name": "Python 3.11",
   "language": "python",
   "name": "python3"
  },
  "language_info": {
   "codemirror_mode": {
    "name": "ipython",
    "version": 3
   },
   "file_extension": ".py",
   "mimetype": "text/x-python",
   "name": "python",
   "nbconvert_exporter": "python",
   "pygments_lexer": "ipython3",
   "version": "3.11.2"
  }
 },
 "nbformat": 4,
 "nbformat_minor": 5
}
