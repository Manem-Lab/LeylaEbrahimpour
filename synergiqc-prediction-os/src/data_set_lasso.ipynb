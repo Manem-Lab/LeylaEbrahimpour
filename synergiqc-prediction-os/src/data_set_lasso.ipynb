{
 "cells": [
  {
   "cell_type": "code",
   "execution_count": 1,
   "id": "beff9ff6-1a1b-45cb-80c6-877ca96fd3b4",
   "metadata": {
    "tags": []
   },
   "outputs": [],
   "source": [
    "import pandas as pd\n",
    "import numpy as np\n",
    "from sklearn.utils import resample\n",
    "from sklearn import preprocessing\n",
    "from sklearn.preprocessing import StandardScaler\n",
    "from sklearn.model_selection import cross_val_score\n",
    "from sklearn.model_selection import GridSearchCV, RepeatedKFold, KFold, RepeatedStratifiedKFold\n",
    "from sklearn.feature_selection import SelectKBest, mutual_info_regression, f_regression\n",
    "from skrebate import ReliefF, SURF, MultiSURF\n",
    "from sklearn.linear_model import Lasso, Ridge\n",
    "from sklearn.gaussian_process import GaussianProcessRegressor\n",
    "from sklearn.gaussian_process.kernels import (DotProduct, WhiteKernel, RBF, Matern, ConstantKernel, ExpSineSquared, RationalQuadratic, Product)\n",
    "from sklearn.svm import SVR\n",
    "from sklearn.ensemble import RandomForestRegressor, GradientBoostingRegressor\n",
    "from sklearn.tree import DecisionTreeRegressor\n",
    "from sklearn.neural_network import MLPRegressor\n",
    "from sklearn.metrics import mean_squared_error, mean_absolute_error, r2_score, make_scorer\n",
    "#from xgboost import XGBClassifier\n",
    "from sklearn.model_selection import train_test_split\n",
    "from imblearn.over_sampling import SMOTE\n",
    "from sklearn.feature_selection import VarianceThreshold\n",
    "from scipy.stats import pearsonr\n",
    "from imblearn.under_sampling import RandomUnderSampler\n",
    "from lifelines import CoxPHFitter\n",
    "from lifelines.utils import concordance_index"
   ]
  },
  {
   "cell_type": "code",
   "execution_count": 3,
   "id": "60ea1df1-9ff9-4652-bad1-627958529241",
   "metadata": {
    "tags": []
   },
   "outputs": [],
   "source": [
    "#from skopt import BayesSearchCVba\n",
    "import os\n",
    "import json\n",
    "import time\n",
    "import joblib"
   ]
  },
  {
   "cell_type": "code",
   "execution_count": 11,
   "id": "19e53d7d-0ee5-4f6d-8cad-fe59a057a445",
   "metadata": {
    "tags": []
   },
   "outputs": [
    {
     "name": "stdout",
     "output_type": "stream",
     "text": [
      "number of features =  (760, 1236)\n"
     ]
    }
   ],
   "source": [
    "# get the start time\n",
    "st = time.time()\n",
    "file_name = 'T-OS_st1_2_dataset_lasso'\n",
    "\n",
    "#Load the data\n",
    "main_dir= \"/home/ulaval.ca/lesee/projects/Project2-synergiqc/OS/\"\n",
    "\n",
    "data = pd.read_excel(os.path.join(main_dir,'data/T-SynergiQc-annotated_centers_combat_radiomics_clinical_normal.xlsx'))\n",
    "# Identify and drop columns with all NaN values\n",
    "#data.dropna(axis=1, how='all', inplace=True)\n",
    "\n",
    "# Filter the data for stage\n",
    "#filtered_data = data[data['Stage'].isin([1,2])]\n",
    "# Filter the data for stage and center\n",
    "filtered_data = data[(data['Stage'].isin([1, 2])) & (data['Center'] == 'IUCPQ')]\n",
    "\n",
    "# Explicitly create a copy of the data\n",
    "filtered_data_copy = filtered_data.copy()\n",
    "\n",
    "filtered_data_copy.drop(columns=['PatientName', 'PatientID', 'StudyInstanceUID', 'Stage',  'Recurrence', 'PFS_months', 'PFS_days','Center', 'manufacturer', 'model', 'kernel', 'slice_thickness', 'pixel_spacing'], inplace=True)\n",
    "\n",
    "#Remove rows with missing data\n",
    "filtered_data_copy.dropna(inplace=True)\n",
    "                                            \n",
    "features = filtered_data_copy.drop(columns=['OS_months', 'OS_days'])\n",
    "print(\"number of features = \", np.shape(features))"
   ]
  },
  {
   "cell_type": "code",
   "execution_count": 12,
   "id": "be5ea9af-71ad-4e8a-b1a5-13d410d0ac87",
   "metadata": {
    "tags": []
   },
   "outputs": [
    {
     "name": "stdout",
     "output_type": "stream",
     "text": [
      "number of features =  (760, 1236)\n",
      "number of non-constant features =  (760, 1236)\n"
     ]
    }
   ],
   "source": [
    "# Set the target variable\n",
    "target = filtered_data_copy['OS_months']\n",
    "#event = filtered_data_copy['VitalStatus']\n",
    "print(\"number of features = \", np.shape(features))\n",
    "\n",
    "#Remove constant radiomic features\n",
    "constant_features = features.columns[features.nunique() == 1]\n",
    "features.drop(constant_features, axis=1, inplace=True)\n",
    "print(\"number of non-constant features = \", np.shape(features))\n",
    "# Store the feature names\n",
    "feature_names = features.columns.tolist()\n",
    "\n",
    "# Split the data into training and testing sets\n",
    "X_train, X_test, y_train, y_test= train_test_split(features, target, test_size=0.3, random_state=42)\n",
    "# Define the list of columns to drop\n",
    "columns_to_drop = ['Smoking', 'Age', 'Subtype', 'Sex']\n",
    "# Drop the clinical data from X_train_scaled and X_test_scaled\n",
    "X_train_filtered = X_train.drop(columns=columns_to_drop)\n",
    "X_test_filtered = X_test.drop(columns=columns_to_drop)\n",
    "\n",
    "scaler = preprocessing.StandardScaler().fit(X_train_filtered)\n",
    "X_train_scaled = scaler.transform(X_train_filtered)\n",
    "X_test_scaled = scaler.transform(X_test_filtered)\n",
    "\n",
    "# Extract the columns to be dropped from X_train_scaled and X_test_scaled\n",
    "X_train_clinical = X_train[columns_to_drop]\n",
    "X_test_clinical = X_test[columns_to_drop]\n",
    "\n",
    "#scaler = preprocessing.StandardScaler().fit(X_train_clinical)\n",
    "#X_train_clinical_scaled = scaler.transform(X_train_clinical)\n",
    "#X_test_clinical_scaled = scaler.transform(X_test_clinical)\n",
    "\n",
    "\n",
    "y_train = y_train.values\n",
    "y_test = y_test.values"
   ]
  },
  {
   "cell_type": "code",
   "execution_count": 13,
   "id": "c8724b2a-2440-41bd-83c6-36c6af87550f",
   "metadata": {
    "tags": []
   },
   "outputs": [],
   "source": [
    "X_train_clinical_df = pd.DataFrame(X_train_clinical)\n",
    "X_test_clinical_df = pd.DataFrame(X_test_clinical)\n",
    "# Save the clinical data for training and test sets to CSV files\n",
    "X_train_clinical_df.to_csv(os.path.join(main_dir,'data/T-train_data_os_st1_2_clinical_iucpq_lasso_normal.csv'), index=False, float_format='%.7f')\n",
    "\n",
    "X_test_clinical_df.to_csv(os.path.join(main_dir,'data/T-test_data_os_st1_2_clinical_iucpq_lasso_normal.csv'), index=False, float_format='%.7f')"
   ]
  },
  {
   "cell_type": "code",
   "execution_count": 14,
   "id": "20ef3949-a9b1-495e-a8ec-d90f1c40277e",
   "metadata": {
    "tags": []
   },
   "outputs": [
    {
     "name": "stdout",
     "output_type": "stream",
     "text": [
      "shape of X_test after Lasso =  (228, 16)\n",
      "shape of X_train after Lasso =  (532, 16)\n",
      "shape of y_test after Lasso =  (228,)\n",
      "No. of features after Lasso =  16\n"
     ]
    }
   ],
   "source": [
    "# Define the cross-validation strategy\n",
    "cv = RepeatedKFold(n_splits=5, n_repeats=3)\n",
    "def my_scorer(y_test, y_predicted):\n",
    "    error = concordance_index(y_test,y_predicted)\n",
    "    return error\n",
    "my_func = make_scorer(my_scorer, greater_is_better=True)\n",
    "# Perform Lasso feature selection\n",
    "lasso_model= Lasso(max_iter=5000)\n",
    "param_grid = {'alpha': [i * 0.5 for i in range(1, 100)]}\n",
    "grid_search = GridSearchCV(lasso_model, param_grid, cv=cv, scoring=my_func)\n",
    "grid_search.fit(X_train_scaled, y_train)\n",
    "best_alpha = grid_search.best_params_['alpha']\n",
    "lasso_model_best = Lasso(alpha=best_alpha)\n",
    "lasso_model_best.fit(X_train_scaled, y_train)\n",
    "\n",
    "coefficients= lasso_model_best.coef_\n",
    "zero_coefficient_indices = list(np.where(coefficients == 0)[0])\n",
    "X_train_selected = X_train_scaled[:, ~np.isin(np.arange(X_train_scaled.shape[1]), zero_coefficient_indices)]\n",
    "X_test_selected = X_test_scaled[:, ~np.isin(np.arange(X_test_scaled.shape[1]), zero_coefficient_indices)]\n",
    "# Get the indices of the selected features after Lasso-based feature selection\n",
    "selected_feature_indices_after_lasso = np.where(~np.isin(np.arange(X_train_scaled.shape[1]), zero_coefficient_indices))[0]\n",
    "# Get the names of the features after Lasso-based feature selection\n",
    "selected_feature_names_after_lasso = [feature_names[idx] for idx in selected_feature_indices_after_lasso]\n",
    "# Combine the selected features with clinical column names\n",
    "final_selected_features = selected_feature_names_after_lasso \n",
    "print(\"shape of X_test after Lasso = \", np.shape(X_test_selected))\n",
    "print(\"shape of X_train after Lasso = \", np.shape(X_train_selected))\n",
    "print(\"shape of y_test after Lasso = \", np.shape(y_test))      \n",
    "print(\"No. of features after Lasso = \" , len(final_selected_features)) \n",
    "#print(len(zero_coefficient_indices))\n",
    "\n",
    "X_train_df = pd.DataFrame(X_train_selected)\n",
    "y_train_df = pd.DataFrame({'y_test': y_train})\n",
    "\n",
    "X_test_df = pd.DataFrame(X_test_selected)\n",
    "y_test_df = pd.DataFrame({'y_test': y_test})\n",
    "\n",
    "# Concatenate the DataFrames horizontally (side by side)\n",
    "combined_df_train = pd.concat([X_train_df, y_train_df], axis=1)\n",
    "combined_df_test = pd.concat([X_test_df, y_test_df], axis=1)\n",
    "\n",
    "# Save the combined DataFrame to a CSV file\n",
    "combined_df_train.to_csv(os.path.join(main_dir,'data/T-train_data_os_st1_2_rad_iucpq_lasso_normal.csv'), index=False, float_format='%.7f')\n",
    "combined_df_test.to_csv(os.path.join(main_dir,'data/T-test_data_os_st1_2_rad_iucpq_lasso_normal.csv'), index=False, float_format='%.7f')"
   ]
  },
  {
   "cell_type": "code",
   "execution_count": null,
   "id": "cb9b4b84-8b38-488c-8c7e-a8238664d8f8",
   "metadata": {},
   "outputs": [],
   "source": []
  }
 ],
 "metadata": {
  "kernelspec": {
   "display_name": "RecurrenceNew",
   "language": "python",
   "name": "recurrencenew"
  },
  "language_info": {
   "codemirror_mode": {
    "name": "ipython",
    "version": 3
   },
   "file_extension": ".py",
   "mimetype": "text/x-python",
   "name": "python",
   "nbconvert_exporter": "python",
   "pygments_lexer": "ipython3",
   "version": "3.9.6"
  }
 },
 "nbformat": 4,
 "nbformat_minor": 5
}
