{
 "cells": [
  {
   "cell_type": "code",
   "execution_count": 3,
   "id": "2b69b2cc-8ae1-4ad5-89df-8243448d6370",
   "metadata": {
    "tags": []
   },
   "outputs": [
    {
     "name": "stdout",
     "output_type": "stream",
     "text": [
      "File has been cleaned and saved.\n"
     ]
    }
   ],
   "source": [
    "import pandas as pd\n",
    "import os\n",
    "\n",
    "# Load the dataset\n",
    "main_dir= \"/home/ulaval.ca/lesee/projects/Project-NLST/\"\n",
    "\n",
    "#read the extracted radiomics for cohort 1 and 2 \n",
    "df = pd.read_excel(os.path.join(main_dir,'data/data_radiomics/radiomicsfeatures_kheops-NLST-Dmitrii-Cohort1_Laptop_v2.xlsx')) \n",
    "\n",
    "\n",
    "# Assuming you want to standardize the Kernel for a given PatientID\n",
    "# First, sort by PatientID and StudyDate to ensure consistency\n",
    "df = df.sort_values(by=['PatientID', 'StudyDate', 'Kernel'])\n",
    "\n",
    "# Method to standardize Kernel - here, we'll just take the first Kernel for each PatientID as the standard\n",
    "standard_kernels = df.groupby('PatientID')['Kernel'].first().reset_index()\n",
    "standard_kernels.rename(columns={'Kernel': 'StandardKernel'}, inplace=True)\n",
    "\n",
    "# Merge the standard kernel back to the original dataframe\n",
    "df = pd.merge(df, standard_kernels, on='PatientID', how='left')\n",
    "\n",
    "# Now, ensure we only have one row per PatientID and StudyDate\n",
    "df_deduplicated = df.drop_duplicates(subset=['PatientID', 'StudyDate']).copy()  # Use .copy() here\n",
    "\n",
    "# Instead of directly assigning values which leads to SettingWithCopyWarning,\n",
    "# Use .loc for setting values in a DataFrame safely\n",
    "df_deduplicated.loc[:, 'Kernel'] = df_deduplicated['StandardKernel'].values\n",
    "df_deduplicated.drop(columns=['StandardKernel'], inplace=True)\n",
    "\n",
    "# Save the cleaned data to a new Excel file\n",
    "output_path = os.path.join(main_dir,'data/data_radiomics/radiomicsfeatures_kheops-NLST-Dmitrii-Cohort1_Laptop_v2-cleaned.xlsx')\n",
    "df_deduplicated.to_excel(output_path, index=False)\n",
    "\n",
    "print(\"File has been cleaned and saved.\")\n"
   ]
  },
  {
   "cell_type": "code",
   "execution_count": null,
   "id": "b0bdfe24-6633-4a51-8358-b582c7411176",
   "metadata": {},
   "outputs": [],
   "source": []
  }
 ],
 "metadata": {
  "kernelspec": {
   "display_name": "Python 3.11",
   "language": "python",
   "name": "python3"
  },
  "language_info": {
   "codemirror_mode": {
    "name": "ipython",
    "version": 3
   },
   "file_extension": ".py",
   "mimetype": "text/x-python",
   "name": "python",
   "nbconvert_exporter": "python",
   "pygments_lexer": "ipython3",
   "version": "3.11.2"
  }
 },
 "nbformat": 4,
 "nbformat_minor": 5
}
