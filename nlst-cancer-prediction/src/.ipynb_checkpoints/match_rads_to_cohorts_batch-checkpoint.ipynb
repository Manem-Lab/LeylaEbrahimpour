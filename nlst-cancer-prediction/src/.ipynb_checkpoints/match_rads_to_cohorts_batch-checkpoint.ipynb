{
 "cells": [
  {
   "cell_type": "code",
   "execution_count": 100,
   "id": "90412fff-1fc4-4c2a-92c8-34d1caddd89b",
   "metadata": {},
   "outputs": [],
   "source": [
    "import pandas as pd\n",
    "import numpy as np\n",
    "import os\n",
    "#Load the data\n",
    "main_dir= \"/home/ulaval.ca/lesee/projects/Project-NLST/\"\n",
    "\n",
    "\n",
    "#read radiomic features of cohort 1 and 2\n",
    "df_cohort1_2_rads = pd.read_csv(os.path.join(main_dir,'results/cohort1_2_rads_combat_TC_kernel_man_dropped.csv'))\n",
    "\n",
    "#read batch parameters of one of the cohorts\n",
    "df_cohort_match = pd.read_csv(os.path.join(main_dir,'data/cohort1-T1-batch.csv'))\n",
    "\n",
    "# Identify unique series in df_cohort_match\n",
    "df_cohort_match_key = df_cohort_match['SeriesInstanceUID'].unique()\n",
    "\n",
    "# Filter rows in df_cohort1_2_rads where the SeriesInstanceUID matches the unique values found in df_cohort_match_key\n",
    "filtered_df_cohort1_2_rads = df_cohort1_2_rads[df_cohort1_2_rads['SeriesInstanceUID'].isin(df_cohort_match_key)]"
   ]
  },
  {
   "cell_type": "code",
   "execution_count": 101,
   "id": "20625cb7-018b-4ac5-8f45-70c27031b531",
   "metadata": {},
   "outputs": [
    {
     "name": "stdout",
     "output_type": "stream",
     "text": [
      "(254, 16)\n"
     ]
    }
   ],
   "source": [
    "print(np.shape(df_cohort_match))"
   ]
  },
  {
   "cell_type": "code",
   "execution_count": 102,
   "id": "a2191223-f66e-40d7-bcef-de5d3d9b3c33",
   "metadata": {},
   "outputs": [],
   "source": [
    "df_rad_features = filtered_df_cohort1_2_rads.drop(columns=['StudyDate_x', 'SeriesInstanceUID'])\n",
    "#print(list(df_rad_features.columns))"
   ]
  },
  {
   "cell_type": "code",
   "execution_count": 103,
   "id": "fd94a0ab-9dd7-460f-a254-9486a7eded3a",
   "metadata": {},
   "outputs": [],
   "source": [
    "#save the radiomics of samples in df_cohort_match\n",
    "df_rad_features.to_csv(os.path.join(main_dir,'results/cohort1_T1_rads_combat_TC_kernel_man_dropped.csv'), float_format='%.7f', index= False)"
   ]
  },
  {
   "cell_type": "code",
   "execution_count": null,
   "id": "7ef3cfa0-7b2d-4989-8226-40e5d055afed",
   "metadata": {},
   "outputs": [],
   "source": []
  }
 ],
 "metadata": {
  "kernelspec": {
   "display_name": "Python 3.11",
   "language": "python",
   "name": "python3"
  },
  "language_info": {
   "codemirror_mode": {
    "name": "ipython",
    "version": 3
   },
   "file_extension": ".py",
   "mimetype": "text/x-python",
   "name": "python",
   "nbconvert_exporter": "python",
   "pygments_lexer": "ipython3",
   "version": "3.11.2"
  }
 },
 "nbformat": 4,
 "nbformat_minor": 5
}
