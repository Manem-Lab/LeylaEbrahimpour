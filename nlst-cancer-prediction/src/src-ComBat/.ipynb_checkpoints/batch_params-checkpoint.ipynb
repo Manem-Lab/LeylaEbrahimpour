{
 "cells": [
  {
   "cell_type": "code",
   "execution_count": 1,
   "id": "477a496d-6600-4b47-8cdd-d58a19fddccc",
   "metadata": {
    "tags": []
   },
   "outputs": [],
   "source": [
    "import os\n",
    "import csv\n",
    "import SimpleITK as sitk\n",
    "import six\n",
    "from radiomics import featureextractor, getTestCase\n",
    "from radiomics.featureextractor import RadiomicsFeatureExtractor\n",
    "import numpy as np\n",
    "import pandas as pd\n",
    "from pathlib import Path\n",
    "import matplotlib.pyplot as plt \n",
    "import pydicom\n",
    "from pydicom import dcmread\n",
    "import dicom2nifti\n",
    "import pydicom_seg\n",
    "import io\n",
    "import tempfile\n",
    "import gc\n",
    "import time\n",
    "import shutil\n",
    "import openpyxl\n",
    "from dicomweb_client.api import DICOMwebClient\n",
    "import dicom2nifti.settings as settings"
   ]
  },
  {
   "cell_type": "code",
   "execution_count": 2,
   "id": "6104efb9-ddde-407e-9c2e-25ba2ce30b85",
   "metadata": {
    "tags": []
   },
   "outputs": [
    {
     "name": "stdout",
     "output_type": "stream",
     "text": [
      "Number of Studies with ID 100005 3\n",
      "Number of Studies with ID 100095 3\n",
      "Number of Studies with ID 100414 3\n",
      "Number of Studies with ID 100629 3\n",
      "Number of Studies with ID 100658 3\n",
      "Number of Studies with ID 100681 3\n",
      "Number of Studies with ID 100727 3\n",
      "Number of Studies with ID 101192 3\n",
      "Number of Studies with ID 101321 3\n",
      "Number of Studies with ID 101428 3\n",
      "Number of Studies with ID 101563 3\n",
      "Number of Studies with ID 101692 3\n",
      "Number of Studies with ID 102154 3\n",
      "Number of Studies with ID 102641 3\n",
      "Number of Studies with ID 103239 3\n",
      "Number of Studies with ID 103359 3\n",
      "Number of Studies with ID 103621 3\n",
      "Number of Studies with ID 103874 3\n",
      "Number of Studies with ID 104355 3\n",
      "Number of Studies with ID 104377 3\n",
      "Number of Studies with ID 104769 3\n",
      "Number of Studies with ID 104792 3\n",
      "Number of Studies with ID 104871 3\n",
      "Number of Studies with ID 104999 3\n",
      "Number of Studies with ID 105617 3\n",
      "Number of Studies with ID 105632 3\n",
      "Number of Studies with ID 106194 3\n",
      "Number of Studies with ID 106226 3\n",
      "Number of Studies with ID 106553 3\n",
      "Number of Studies with ID 106957 3\n",
      "Number of Studies with ID 107211 3\n",
      "Number of Studies with ID 107579 3\n",
      "Number of Studies with ID 107910 3\n",
      "Number of Studies with ID 108061 3\n",
      "Number of Studies with ID 108320 3\n",
      "Number of Studies with ID 108461 3\n",
      "Number of Studies with ID 108539 3\n",
      "Number of Studies with ID 108600 3\n",
      "Number of Studies with ID 108921 3\n",
      "Number of Studies with ID 109031 3\n",
      "Number of Studies with ID 109127 3\n",
      "Number of Studies with ID 109965 3\n",
      "Number of Studies with ID 110802 3\n",
      "Number of Studies with ID 110919 3\n",
      "Number of Studies with ID 110994 3\n",
      "Number of Studies with ID 111452 3\n",
      "Number of Studies with ID 111454 3\n",
      "Number of Studies with ID 112180 3\n",
      "Number of Studies with ID 112220 3\n",
      "Number of Studies with ID 112506 3\n",
      "Number of Studies with ID 112606 3\n",
      "Number of Studies with ID 112786 3\n",
      "Number of Studies with ID 112961 3\n",
      "Number of Studies with ID 113014 3\n",
      "Number of Studies with ID 113820 3\n",
      "Number of Studies with ID 114517 3\n",
      "Number of Studies with ID 114656 3\n",
      "Number of Studies with ID 114796 3\n",
      "Number of Studies with ID 115020 3\n",
      "Number of Studies with ID 115175 3\n",
      "Number of Studies with ID 115571 3\n",
      "Number of Studies with ID 115772 3\n",
      "Number of Studies with ID 115794 3\n",
      "Number of Studies with ID 116383 3\n",
      "Number of Studies with ID 117406 3\n",
      "Number of Studies with ID 117490 3\n",
      "Number of Studies with ID 117610 3\n",
      "Number of Studies with ID 117950 3\n",
      "Number of Studies with ID 118243 3\n",
      "Number of Studies with ID 118297 3\n",
      "Number of Studies with ID 118553 3\n",
      "Number of Studies with ID 118602 3\n",
      "Number of Studies with ID 118719 3\n",
      "Number of Studies with ID 118745 3\n",
      "Number of Studies with ID 119485 3\n",
      "Number of Studies with ID 119533 3\n",
      "Number of Studies with ID 119568 3\n",
      "Number of Studies with ID 119894 3\n",
      "Number of Studies with ID 119934 3\n",
      "Number of Studies with ID 120070 3\n",
      "Number of Studies with ID 120573 3\n",
      "Number of Studies with ID 120593 3\n",
      "Number of Studies with ID 120885 3\n",
      "Number of Studies with ID 121657 3\n",
      "Number of Studies with ID 121852 3\n",
      "Number of Studies with ID 122078 3\n",
      "Number of Studies with ID 122117 3\n",
      "Number of Studies with ID 122159 3\n",
      "Number of Studies with ID 122376 3\n",
      "Number of Studies with ID 122378 3\n",
      "Number of Studies with ID 122577 3\n",
      "Number of Studies with ID 122590 3\n",
      "Number of Studies with ID 123062 3\n",
      "Number of Studies with ID 123810 3\n",
      "Number of Studies with ID 123884 3\n",
      "Number of Studies with ID 123891 3\n",
      "Number of Studies with ID 124323 3\n",
      "Number of Studies with ID 124607 3\n",
      "Number of Studies with ID 124913 3\n",
      "Number of Studies with ID 125028 3\n",
      "Number of Studies with ID 125413 3\n",
      "Number of Studies with ID 125697 3\n",
      "Number of Studies with ID 125727 3\n",
      "Number of Studies with ID 125898 3\n",
      "Number of Studies with ID 126101 3\n",
      "Number of Studies with ID 126581 3\n",
      "Number of Studies with ID 126622 3\n",
      "Number of Studies with ID 126718 3\n",
      "Number of Studies with ID 126823 3\n",
      "Number of Studies with ID 126928 3\n",
      "Number of Studies with ID 127048 3\n",
      "Number of Studies with ID 127731 3\n",
      "Number of Studies with ID 127996 3\n",
      "Number of Studies with ID 128033 3\n",
      "Number of Studies with ID 128535 3\n",
      "Number of Studies with ID 128601 3\n",
      "Number of Studies with ID 128852 3\n",
      "Number of Studies with ID 128899 3\n",
      "Number of Studies with ID 129511 3\n",
      "Number of Studies with ID 129534 3\n",
      "Number of Studies with ID 129703 3\n",
      "Number of Studies with ID 129734 3\n",
      "Number of Studies with ID 130117 3\n",
      "Number of Studies with ID 130173 3\n",
      "Number of Studies with ID 130896 3\n",
      "Number of Studies with ID 130950 3\n",
      "Number of Studies with ID 131611 3\n",
      "Number of Studies with ID 131963 3\n",
      "Number of Studies with ID 131986 3\n",
      "Number of Studies with ID 132313 3\n",
      "Number of Studies with ID 132535 3\n",
      "Number of Studies with ID 132823 3\n",
      "Number of Studies with ID 132885 3\n",
      "Number of Studies with ID 133076 3\n",
      "Number of Studies with ID 133308 3\n",
      "Number of Studies with ID 133991 3\n",
      "Number of Studies with ID 134309 3\n",
      "Number of Studies with ID 134491 3\n",
      "Number of Studies with ID 134503 3\n"
     ]
    },
    {
     "name": "stderr",
     "output_type": "stream",
     "text": [
      "empty response\n"
     ]
    },
    {
     "name": "stdout",
     "output_type": "stream",
     "text": [
      "Number of Studies with ID 200129 0\n"
     ]
    },
    {
     "name": "stderr",
     "output_type": "stream",
     "text": [
      "empty response\n"
     ]
    },
    {
     "name": "stdout",
     "output_type": "stream",
     "text": [
      "Number of Studies with ID 200221 0\n"
     ]
    },
    {
     "name": "stderr",
     "output_type": "stream",
     "text": [
      "empty response\n"
     ]
    },
    {
     "name": "stdout",
     "output_type": "stream",
     "text": [
      "Number of Studies with ID 200268 0\n"
     ]
    },
    {
     "name": "stderr",
     "output_type": "stream",
     "text": [
      "empty response\n"
     ]
    },
    {
     "name": "stdout",
     "output_type": "stream",
     "text": [
      "Number of Studies with ID 200628 0\n"
     ]
    },
    {
     "name": "stderr",
     "output_type": "stream",
     "text": [
      "empty response\n"
     ]
    },
    {
     "name": "stdout",
     "output_type": "stream",
     "text": [
      "Number of Studies with ID 200834 0\n"
     ]
    },
    {
     "name": "stderr",
     "output_type": "stream",
     "text": [
      "empty response\n"
     ]
    },
    {
     "name": "stdout",
     "output_type": "stream",
     "text": [
      "Number of Studies with ID 200925 0\n"
     ]
    },
    {
     "name": "stderr",
     "output_type": "stream",
     "text": [
      "empty response\n"
     ]
    },
    {
     "name": "stdout",
     "output_type": "stream",
     "text": [
      "Number of Studies with ID 201368 0\n"
     ]
    },
    {
     "name": "stderr",
     "output_type": "stream",
     "text": [
      "empty response\n"
     ]
    },
    {
     "name": "stdout",
     "output_type": "stream",
     "text": [
      "Number of Studies with ID 201446 0\n"
     ]
    },
    {
     "name": "stderr",
     "output_type": "stream",
     "text": [
      "empty response\n"
     ]
    },
    {
     "name": "stdout",
     "output_type": "stream",
     "text": [
      "Number of Studies with ID 201737 0\n"
     ]
    },
    {
     "name": "stderr",
     "output_type": "stream",
     "text": [
      "empty response\n"
     ]
    },
    {
     "name": "stdout",
     "output_type": "stream",
     "text": [
      "Number of Studies with ID 201890 0\n",
      "Number of Studies with ID 202611 3\n"
     ]
    },
    {
     "name": "stderr",
     "output_type": "stream",
     "text": [
      "empty response\n"
     ]
    },
    {
     "name": "stdout",
     "output_type": "stream",
     "text": [
      "Number of Studies with ID 202709 0\n"
     ]
    },
    {
     "name": "stderr",
     "output_type": "stream",
     "text": [
      "empty response\n"
     ]
    },
    {
     "name": "stdout",
     "output_type": "stream",
     "text": [
      "Number of Studies with ID 202748 0\n"
     ]
    },
    {
     "name": "stderr",
     "output_type": "stream",
     "text": [
      "empty response\n"
     ]
    },
    {
     "name": "stdout",
     "output_type": "stream",
     "text": [
      "Number of Studies with ID 202822 0\n"
     ]
    },
    {
     "name": "stderr",
     "output_type": "stream",
     "text": [
      "empty response\n"
     ]
    },
    {
     "name": "stdout",
     "output_type": "stream",
     "text": [
      "Number of Studies with ID 202873 0\n"
     ]
    },
    {
     "name": "stderr",
     "output_type": "stream",
     "text": [
      "empty response\n"
     ]
    },
    {
     "name": "stdout",
     "output_type": "stream",
     "text": [
      "Number of Studies with ID 203344 0\n"
     ]
    },
    {
     "name": "stderr",
     "output_type": "stream",
     "text": [
      "empty response\n"
     ]
    },
    {
     "name": "stdout",
     "output_type": "stream",
     "text": [
      "Number of Studies with ID 203536 0\n"
     ]
    },
    {
     "name": "stderr",
     "output_type": "stream",
     "text": [
      "empty response\n"
     ]
    },
    {
     "name": "stdout",
     "output_type": "stream",
     "text": [
      "Number of Studies with ID 203759 0\n"
     ]
    },
    {
     "name": "stderr",
     "output_type": "stream",
     "text": [
      "empty response\n"
     ]
    },
    {
     "name": "stdout",
     "output_type": "stream",
     "text": [
      "Number of Studies with ID 203921 0\n"
     ]
    },
    {
     "name": "stderr",
     "output_type": "stream",
     "text": [
      "empty response\n"
     ]
    },
    {
     "name": "stdout",
     "output_type": "stream",
     "text": [
      "Number of Studies with ID 203930 0\n"
     ]
    },
    {
     "name": "stderr",
     "output_type": "stream",
     "text": [
      "empty response\n"
     ]
    },
    {
     "name": "stdout",
     "output_type": "stream",
     "text": [
      "Number of Studies with ID 204238 0\n"
     ]
    },
    {
     "name": "stderr",
     "output_type": "stream",
     "text": [
      "empty response\n"
     ]
    },
    {
     "name": "stdout",
     "output_type": "stream",
     "text": [
      "Number of Studies with ID 204377 0\n"
     ]
    },
    {
     "name": "stderr",
     "output_type": "stream",
     "text": [
      "empty response\n"
     ]
    },
    {
     "name": "stdout",
     "output_type": "stream",
     "text": [
      "Number of Studies with ID 204494 0\n"
     ]
    },
    {
     "name": "stderr",
     "output_type": "stream",
     "text": [
      "empty response\n"
     ]
    },
    {
     "name": "stdout",
     "output_type": "stream",
     "text": [
      "Number of Studies with ID 205023 0\n"
     ]
    },
    {
     "name": "stderr",
     "output_type": "stream",
     "text": [
      "empty response\n"
     ]
    },
    {
     "name": "stdout",
     "output_type": "stream",
     "text": [
      "Number of Studies with ID 205964 0\n"
     ]
    },
    {
     "name": "stderr",
     "output_type": "stream",
     "text": [
      "empty response\n"
     ]
    },
    {
     "name": "stdout",
     "output_type": "stream",
     "text": [
      "Number of Studies with ID 206737 0\n"
     ]
    },
    {
     "name": "stderr",
     "output_type": "stream",
     "text": [
      "empty response\n"
     ]
    },
    {
     "name": "stdout",
     "output_type": "stream",
     "text": [
      "Number of Studies with ID 206870 0\n"
     ]
    },
    {
     "name": "stderr",
     "output_type": "stream",
     "text": [
      "empty response\n"
     ]
    },
    {
     "name": "stdout",
     "output_type": "stream",
     "text": [
      "Number of Studies with ID 206925 0\n"
     ]
    },
    {
     "name": "stderr",
     "output_type": "stream",
     "text": [
      "empty response\n"
     ]
    },
    {
     "name": "stdout",
     "output_type": "stream",
     "text": [
      "Number of Studies with ID 207830 0\n"
     ]
    },
    {
     "name": "stderr",
     "output_type": "stream",
     "text": [
      "empty response\n"
     ]
    },
    {
     "name": "stdout",
     "output_type": "stream",
     "text": [
      "Number of Studies with ID 208147 0\n"
     ]
    },
    {
     "name": "stderr",
     "output_type": "stream",
     "text": [
      "empty response\n"
     ]
    },
    {
     "name": "stdout",
     "output_type": "stream",
     "text": [
      "Number of Studies with ID 209119 0\n"
     ]
    },
    {
     "name": "stderr",
     "output_type": "stream",
     "text": [
      "empty response\n"
     ]
    },
    {
     "name": "stdout",
     "output_type": "stream",
     "text": [
      "Number of Studies with ID 209137 0\n"
     ]
    },
    {
     "name": "stderr",
     "output_type": "stream",
     "text": [
      "empty response\n"
     ]
    },
    {
     "name": "stdout",
     "output_type": "stream",
     "text": [
      "Number of Studies with ID 209318 0\n"
     ]
    },
    {
     "name": "stderr",
     "output_type": "stream",
     "text": [
      "empty response\n"
     ]
    },
    {
     "name": "stdout",
     "output_type": "stream",
     "text": [
      "Number of Studies with ID 209445 0\n"
     ]
    },
    {
     "name": "stderr",
     "output_type": "stream",
     "text": [
      "empty response\n"
     ]
    },
    {
     "name": "stdout",
     "output_type": "stream",
     "text": [
      "Number of Studies with ID 209852 0\n"
     ]
    },
    {
     "name": "stderr",
     "output_type": "stream",
     "text": [
      "empty response\n"
     ]
    },
    {
     "name": "stdout",
     "output_type": "stream",
     "text": [
      "Number of Studies with ID 210090 0\n",
      "Number of Studies with ID 210198 3\n"
     ]
    },
    {
     "name": "stderr",
     "output_type": "stream",
     "text": [
      "empty response\n"
     ]
    },
    {
     "name": "stdout",
     "output_type": "stream",
     "text": [
      "Number of Studies with ID 210419 0\n",
      "Number of Studies with ID 210483 3\n"
     ]
    },
    {
     "name": "stderr",
     "output_type": "stream",
     "text": [
      "empty response\n"
     ]
    },
    {
     "name": "stdout",
     "output_type": "stream",
     "text": [
      "Number of Studies with ID 210653 0\n"
     ]
    },
    {
     "name": "stderr",
     "output_type": "stream",
     "text": [
      "empty response\n"
     ]
    },
    {
     "name": "stdout",
     "output_type": "stream",
     "text": [
      "Number of Studies with ID 210700 0\n"
     ]
    },
    {
     "name": "stderr",
     "output_type": "stream",
     "text": [
      "empty response\n"
     ]
    },
    {
     "name": "stdout",
     "output_type": "stream",
     "text": [
      "Number of Studies with ID 210754 0\n"
     ]
    },
    {
     "name": "stderr",
     "output_type": "stream",
     "text": [
      "empty response\n"
     ]
    },
    {
     "name": "stdout",
     "output_type": "stream",
     "text": [
      "Number of Studies with ID 211092 0\n",
      "Number of Studies with ID 211965 3\n"
     ]
    },
    {
     "name": "stderr",
     "output_type": "stream",
     "text": [
      "empty response\n"
     ]
    },
    {
     "name": "stdout",
     "output_type": "stream",
     "text": [
      "Number of Studies with ID 212200 0\n"
     ]
    },
    {
     "name": "stderr",
     "output_type": "stream",
     "text": [
      "empty response\n"
     ]
    },
    {
     "name": "stdout",
     "output_type": "stream",
     "text": [
      "Number of Studies with ID 212202 0\n"
     ]
    },
    {
     "name": "stderr",
     "output_type": "stream",
     "text": [
      "empty response\n"
     ]
    },
    {
     "name": "stdout",
     "output_type": "stream",
     "text": [
      "Number of Studies with ID 212522 0\n"
     ]
    },
    {
     "name": "stderr",
     "output_type": "stream",
     "text": [
      "empty response\n"
     ]
    },
    {
     "name": "stdout",
     "output_type": "stream",
     "text": [
      "Number of Studies with ID 212718 0\n"
     ]
    },
    {
     "name": "stderr",
     "output_type": "stream",
     "text": [
      "empty response\n"
     ]
    },
    {
     "name": "stdout",
     "output_type": "stream",
     "text": [
      "Number of Studies with ID 213139 0\n"
     ]
    },
    {
     "name": "stderr",
     "output_type": "stream",
     "text": [
      "empty response\n"
     ]
    },
    {
     "name": "stdout",
     "output_type": "stream",
     "text": [
      "Number of Studies with ID 213215 0\n"
     ]
    },
    {
     "name": "stderr",
     "output_type": "stream",
     "text": [
      "empty response\n"
     ]
    },
    {
     "name": "stdout",
     "output_type": "stream",
     "text": [
      "Number of Studies with ID 213439 0\n"
     ]
    },
    {
     "name": "stderr",
     "output_type": "stream",
     "text": [
      "empty response\n"
     ]
    },
    {
     "name": "stdout",
     "output_type": "stream",
     "text": [
      "Number of Studies with ID 213442 0\n"
     ]
    },
    {
     "name": "stderr",
     "output_type": "stream",
     "text": [
      "empty response\n"
     ]
    },
    {
     "name": "stdout",
     "output_type": "stream",
     "text": [
      "Number of Studies with ID 213734 0\n"
     ]
    },
    {
     "name": "stderr",
     "output_type": "stream",
     "text": [
      "empty response\n"
     ]
    },
    {
     "name": "stdout",
     "output_type": "stream",
     "text": [
      "Number of Studies with ID 214270 0\n",
      "Number of Studies with ID 214553 3\n"
     ]
    },
    {
     "name": "stderr",
     "output_type": "stream",
     "text": [
      "empty response\n"
     ]
    },
    {
     "name": "stdout",
     "output_type": "stream",
     "text": [
      "Number of Studies with ID 214700 0\n"
     ]
    },
    {
     "name": "stderr",
     "output_type": "stream",
     "text": [
      "empty response\n"
     ]
    },
    {
     "name": "stdout",
     "output_type": "stream",
     "text": [
      "Number of Studies with ID 215325 0\n"
     ]
    },
    {
     "name": "stderr",
     "output_type": "stream",
     "text": [
      "empty response\n"
     ]
    },
    {
     "name": "stdout",
     "output_type": "stream",
     "text": [
      "Number of Studies with ID 215446 0\n"
     ]
    },
    {
     "name": "stderr",
     "output_type": "stream",
     "text": [
      "empty response\n"
     ]
    },
    {
     "name": "stdout",
     "output_type": "stream",
     "text": [
      "Number of Studies with ID 215687 0\n"
     ]
    },
    {
     "name": "stderr",
     "output_type": "stream",
     "text": [
      "empty response\n"
     ]
    },
    {
     "name": "stdout",
     "output_type": "stream",
     "text": [
      "Number of Studies with ID 216089 0\n"
     ]
    },
    {
     "name": "stderr",
     "output_type": "stream",
     "text": [
      "empty response\n"
     ]
    },
    {
     "name": "stdout",
     "output_type": "stream",
     "text": [
      "Number of Studies with ID 216411 0\n"
     ]
    },
    {
     "name": "stderr",
     "output_type": "stream",
     "text": [
      "empty response\n"
     ]
    },
    {
     "name": "stdout",
     "output_type": "stream",
     "text": [
      "Number of Studies with ID 216422 0\n"
     ]
    },
    {
     "name": "stderr",
     "output_type": "stream",
     "text": [
      "empty response\n"
     ]
    },
    {
     "name": "stdout",
     "output_type": "stream",
     "text": [
      "Number of Studies with ID 216666 0\n"
     ]
    },
    {
     "name": "stderr",
     "output_type": "stream",
     "text": [
      "empty response\n"
     ]
    },
    {
     "name": "stdout",
     "output_type": "stream",
     "text": [
      "Number of Studies with ID 217021 0\n"
     ]
    },
    {
     "name": "stderr",
     "output_type": "stream",
     "text": [
      "empty response\n"
     ]
    },
    {
     "name": "stdout",
     "output_type": "stream",
     "text": [
      "Number of Studies with ID 217203 0\n"
     ]
    },
    {
     "name": "stderr",
     "output_type": "stream",
     "text": [
      "empty response\n"
     ]
    },
    {
     "name": "stdout",
     "output_type": "stream",
     "text": [
      "Number of Studies with ID 217676 0\n"
     ]
    },
    {
     "name": "stderr",
     "output_type": "stream",
     "text": [
      "empty response\n"
     ]
    },
    {
     "name": "stdout",
     "output_type": "stream",
     "text": [
      "Number of Studies with ID 218217 0\n"
     ]
    },
    {
     "name": "stderr",
     "output_type": "stream",
     "text": [
      "empty response\n"
     ]
    },
    {
     "name": "stdout",
     "output_type": "stream",
     "text": [
      "Number of Studies with ID 218320 0\n"
     ]
    },
    {
     "name": "stderr",
     "output_type": "stream",
     "text": [
      "empty response\n"
     ]
    },
    {
     "name": "stdout",
     "output_type": "stream",
     "text": [
      "Number of Studies with ID 218383 0\n",
      "Number of Studies with ID 218510 3\n"
     ]
    },
    {
     "name": "stderr",
     "output_type": "stream",
     "text": [
      "empty response\n"
     ]
    },
    {
     "name": "stdout",
     "output_type": "stream",
     "text": [
      "Number of Studies with ID 218662 0\n"
     ]
    }
   ],
   "source": [
    "settings. disable_validate_slice_increment()\n",
    "#pydicom.config.pixel_data_handlers = ['gdcm_handler']\n",
    "\n",
    "# get the start timen_jobs\n",
    "\n",
    "st = time.time()\n",
    "#tmp_dir = os.getenv(\"SLURM_TMPDIR\")                \n",
    "# Define the float format\n",
    "#float_format = '%.5f'\n",
    "\n",
    "#path the main directory\n",
    "main_dir= \"/home/ulaval.ca/lesee/projects/Project-NLST/\"\n",
    "\n",
    "auth_token= 'kkaPH62MZeS01bqNeCBDDO'\n",
    "header = {'Authorization': 'Bearer ' + auth_token}\n",
    "\n",
    "#giving the path of web-based dicom files\n",
    "url=\"https://platform.paradim.science/api\"\n",
    "client_dcm = DICOMwebClient(url = url, headers = header)\n",
    "all_studies =[]\n",
    "data = pd.read_csv(os.path.join(main_dir,'data/data_batch-clinical-labels/Cohort2_labels.csv'))\n",
    "patient_ids = data['PatientID']\n",
    "#patient_ids = ['100012']\n",
    "for patient_id in patient_ids:\n",
    "    search_filters = {'PatientID': patient_id}\n",
    "    studies = client_dcm.search_for_studies(search_filters=search_filters)\n",
    "    all_studies.extend(studies)\n",
    "    print(\"Number of Studies with ID \"+str(patient_id), len(studies))"
   ]
  },
  {
   "cell_type": "code",
   "execution_count": 3,
   "id": "a1bc2765-25a7-4ecf-a935-78873f89397c",
   "metadata": {
    "tags": []
   },
   "outputs": [
    {
     "name": "stdout",
     "output_type": "stream",
     "text": [
      "435\n"
     ]
    }
   ],
   "source": [
    "print(len(all_studies))"
   ]
  },
  {
   "cell_type": "code",
   "execution_count": 4,
   "id": "e08899c6-c022-4901-86cc-9c560d5ab85b",
   "metadata": {
    "tags": []
   },
   "outputs": [
    {
     "name": "stdout",
     "output_type": "stream",
     "text": [
      "Study No. =  1\n",
      "Patient ID =  100005\n",
      "Study Date =  20010102\n",
      "Study No. =  2\n",
      "Patient ID =  100005\n",
      "Study Date =  20000102\n",
      "Study No. =  3\n",
      "Patient ID =  100005\n",
      "Study Date =  19990102\n",
      "Study No. =  4\n",
      "Patient ID =  100095\n",
      "Study Date =  20010102\n",
      "Study No. =  5\n",
      "Patient ID =  100095\n",
      "Study Date =  20000102\n",
      "Study No. =  6\n",
      "Patient ID =  100095\n",
      "Study Date =  19990102\n",
      "Study No. =  7\n",
      "Patient ID =  100414\n",
      "Study Date =  20010102\n",
      "Study No. =  8\n",
      "Patient ID =  100414\n",
      "Study Date =  20000102\n",
      "Study No. =  9\n",
      "Patient ID =  100414\n",
      "Study Date =  19990102\n",
      "Study No. =  10\n",
      "Patient ID =  100629\n",
      "Study Date =  20010102\n",
      "Study No. =  11\n",
      "Patient ID =  100629\n",
      "Study Date =  20000102\n",
      "Study No. =  12\n",
      "Patient ID =  100629\n",
      "Study Date =  19990102\n",
      "Study No. =  13\n",
      "Patient ID =  100658\n",
      "Study Date =  20010102\n",
      "Study No. =  14\n",
      "Patient ID =  100658\n",
      "Study Date =  20000102\n",
      "Study No. =  15\n",
      "Patient ID =  100658\n",
      "Study Date =  19990102\n",
      "Study No. =  16\n",
      "Patient ID =  100681\n",
      "Study Date =  20010102\n",
      "Study No. =  17\n",
      "Patient ID =  100681\n",
      "Study Date =  20000102\n",
      "Study No. =  18\n",
      "Patient ID =  100681\n",
      "Study Date =  19990102\n",
      "Study No. =  19\n",
      "Patient ID =  100727\n",
      "Study Date =  20010102\n",
      "Study No. =  20\n",
      "Patient ID =  100727\n",
      "Study Date =  20000102\n",
      "Study No. =  21\n",
      "Patient ID =  100727\n",
      "Study Date =  19990102\n",
      "Study No. =  22\n",
      "Patient ID =  101192\n",
      "Study Date =  20010102\n",
      "Study No. =  23\n",
      "Patient ID =  101192\n",
      "Study Date =  20000102\n",
      "Study No. =  24\n",
      "Patient ID =  101192\n",
      "Study Date =  19990102\n",
      "Study No. =  25\n",
      "Patient ID =  101321\n",
      "Study Date =  20010102\n",
      "Study No. =  26\n",
      "Patient ID =  101321\n",
      "Study Date =  20000102\n",
      "Study No. =  27\n",
      "Patient ID =  101321\n",
      "Study Date =  19990102\n",
      "Study No. =  28\n",
      "Patient ID =  101428\n",
      "Study Date =  20010102\n",
      "Study No. =  29\n",
      "Patient ID =  101428\n",
      "Study Date =  20000102\n",
      "Study No. =  30\n",
      "Patient ID =  101428\n",
      "Study Date =  19990102\n",
      "Study No. =  31\n",
      "Patient ID =  101563\n",
      "Study Date =  20010102\n",
      "Study No. =  32\n",
      "Patient ID =  101563\n",
      "Study Date =  20000102\n",
      "Study No. =  33\n",
      "Patient ID =  101563\n",
      "Study Date =  19990102\n",
      "Study No. =  34\n",
      "Patient ID =  101692\n",
      "Study Date =  20010102\n",
      "Study No. =  35\n",
      "Patient ID =  101692\n",
      "Study Date =  20000102\n",
      "Study No. =  36\n",
      "Patient ID =  101692\n",
      "Study Date =  19990102\n",
      "Study No. =  37\n",
      "Patient ID =  102154\n",
      "Study Date =  20010102\n",
      "Study No. =  38\n",
      "Patient ID =  102154\n",
      "Study Date =  20000102\n",
      "Study No. =  39\n",
      "Patient ID =  102154\n",
      "Study Date =  19990102\n",
      "Study No. =  40\n",
      "Patient ID =  102641\n",
      "Study Date =  20010102\n",
      "Study No. =  41\n",
      "Patient ID =  102641\n",
      "Study Date =  20000102\n",
      "Study No. =  42\n",
      "Patient ID =  102641\n",
      "Study Date =  19990102\n",
      "Study No. =  43\n",
      "Patient ID =  103239\n",
      "Study Date =  20010102\n",
      "Study No. =  44\n",
      "Patient ID =  103239\n",
      "Study Date =  20000102\n",
      "Study No. =  45\n",
      "Patient ID =  103239\n",
      "Study Date =  19990102\n",
      "Study No. =  46\n",
      "Patient ID =  103359\n",
      "Study Date =  20010102\n",
      "Study No. =  47\n",
      "Patient ID =  103359\n",
      "Study Date =  20000102\n",
      "Study No. =  48\n",
      "Patient ID =  103359\n",
      "Study Date =  19990102\n",
      "Study No. =  49\n",
      "Patient ID =  103621\n",
      "Study Date =  20010102\n",
      "Study No. =  50\n",
      "Patient ID =  103621\n",
      "Study Date =  20000102\n",
      "Study No. =  51\n",
      "Patient ID =  103621\n",
      "Study Date =  19990102\n",
      "Study No. =  52\n",
      "Patient ID =  103874\n",
      "Study Date =  20010102\n",
      "Study No. =  53\n",
      "Patient ID =  103874\n",
      "Study Date =  20000102\n",
      "Study No. =  54\n",
      "Patient ID =  103874\n",
      "Study Date =  19990102\n",
      "Study No. =  55\n",
      "Patient ID =  104355\n",
      "Study Date =  20010102\n",
      "Study No. =  56\n",
      "Patient ID =  104355\n",
      "Study Date =  20000102\n",
      "Study No. =  57\n",
      "Patient ID =  104355\n",
      "Study Date =  19990102\n",
      "Study No. =  58\n",
      "Patient ID =  104377\n",
      "Study Date =  20010102\n",
      "Study No. =  59\n",
      "Patient ID =  104377\n",
      "Study Date =  20000102\n",
      "Study No. =  60\n",
      "Patient ID =  104377\n",
      "Study Date =  19990102\n",
      "Study No. =  61\n",
      "Patient ID =  104769\n",
      "Study Date =  20010102\n",
      "Study No. =  62\n",
      "Patient ID =  104769\n",
      "Study Date =  20000102\n",
      "Study No. =  63\n",
      "Patient ID =  104769\n",
      "Study Date =  19990102\n",
      "Study No. =  64\n",
      "Patient ID =  104792\n",
      "Study Date =  20010102\n",
      "Study No. =  65\n",
      "Patient ID =  104792\n",
      "Study Date =  20000102\n",
      "Study No. =  66\n",
      "Patient ID =  104792\n",
      "Study Date =  19990102\n",
      "Study No. =  67\n",
      "Patient ID =  104871\n",
      "Study Date =  20010102\n",
      "Study No. =  68\n",
      "Patient ID =  104871\n",
      "Study Date =  20000102\n",
      "Study No. =  69\n",
      "Patient ID =  104871\n",
      "Study Date =  19990102\n",
      "Study No. =  70\n",
      "Patient ID =  104999\n",
      "Study Date =  20010102\n",
      "Study No. =  71\n",
      "Patient ID =  104999\n",
      "Study Date =  20000102\n",
      "Study No. =  72\n",
      "Patient ID =  104999\n",
      "Study Date =  19990102\n",
      "Study No. =  73\n",
      "Patient ID =  105617\n",
      "Study Date =  20010102\n",
      "Study No. =  74\n",
      "Patient ID =  105617\n",
      "Study Date =  20000102\n",
      "Study No. =  75\n",
      "Patient ID =  105617\n",
      "Study Date =  19990102\n",
      "Study No. =  76\n",
      "Patient ID =  105632\n",
      "Study Date =  20010102\n",
      "Study No. =  77\n",
      "Patient ID =  105632\n",
      "Study Date =  20000102\n",
      "Study No. =  78\n",
      "Patient ID =  105632\n",
      "Study Date =  19990102\n",
      "Study No. =  79\n",
      "Patient ID =  106194\n",
      "Study Date =  20010102\n",
      "Study No. =  80\n",
      "Patient ID =  106194\n",
      "Study Date =  20000102\n",
      "Study No. =  81\n",
      "Patient ID =  106194\n",
      "Study Date =  19990102\n",
      "Study No. =  82\n",
      "Patient ID =  106226\n",
      "Study Date =  20010102\n",
      "Study No. =  83\n",
      "Patient ID =  106226\n",
      "Study Date =  20000102\n",
      "Study No. =  84\n",
      "Patient ID =  106226\n",
      "Study Date =  19990102\n",
      "Study No. =  85\n",
      "Patient ID =  106553\n",
      "Study Date =  20010102\n",
      "Study No. =  86\n",
      "Patient ID =  106553\n",
      "Study Date =  20000102\n",
      "Study No. =  87\n",
      "Patient ID =  106553\n",
      "Study Date =  19990102\n",
      "Study No. =  88\n",
      "Patient ID =  106957\n",
      "Study Date =  20010102\n",
      "An error occurred: (0018, 1210)\n",
      "Study No. =  89\n",
      "Patient ID =  106957\n",
      "Study Date =  20000102\n",
      "Study No. =  90\n",
      "Patient ID =  106957\n",
      "Study Date =  19990102\n",
      "Study No. =  91\n",
      "Patient ID =  107211\n",
      "Study Date =  20010102\n",
      "Study No. =  92\n",
      "Patient ID =  107211\n",
      "Study Date =  20000102\n",
      "Study No. =  93\n",
      "Patient ID =  107211\n",
      "Study Date =  19990102\n",
      "Study No. =  94\n",
      "Patient ID =  107579\n",
      "Study Date =  20010102\n",
      "Study No. =  95\n",
      "Patient ID =  107579\n",
      "Study Date =  20000102\n",
      "Study No. =  96\n",
      "Patient ID =  107579\n",
      "Study Date =  19990102\n",
      "Study No. =  97\n",
      "Patient ID =  107910\n",
      "Study Date =  20010102\n",
      "Study No. =  98\n",
      "Patient ID =  107910\n",
      "Study Date =  20000102\n",
      "Study No. =  99\n",
      "Patient ID =  107910\n",
      "Study Date =  19990102\n",
      "Study No. =  100\n",
      "Patient ID =  108061\n",
      "Study Date =  20010102\n",
      "Study No. =  101\n",
      "Patient ID =  108061\n",
      "Study Date =  20000102\n",
      "Study No. =  102\n",
      "Patient ID =  108061\n",
      "Study Date =  19990102\n",
      "Study No. =  103\n",
      "Patient ID =  108320\n",
      "Study Date =  20010102\n",
      "Study No. =  104\n",
      "Patient ID =  108320\n",
      "Study Date =  20000102\n",
      "Study No. =  105\n",
      "Patient ID =  108320\n",
      "Study Date =  19990102\n",
      "Study No. =  106\n",
      "Patient ID =  108461\n",
      "Study Date =  20010102\n",
      "Study No. =  107\n",
      "Patient ID =  108461\n",
      "Study Date =  20000102\n",
      "Study No. =  108\n",
      "Patient ID =  108461\n",
      "Study Date =  19990102\n",
      "Study No. =  109\n",
      "Patient ID =  108539\n",
      "Study Date =  20010102\n",
      "Study No. =  110\n",
      "Patient ID =  108539\n",
      "Study Date =  20000102\n",
      "Study No. =  111\n",
      "Patient ID =  108539\n",
      "Study Date =  19990102\n",
      "Study No. =  112\n",
      "Patient ID =  108600\n",
      "Study Date =  20010102\n",
      "Study No. =  113\n",
      "Patient ID =  108600\n",
      "Study Date =  20000102\n",
      "Study No. =  114\n",
      "Patient ID =  108600\n",
      "Study Date =  19990102\n",
      "Study No. =  115\n",
      "Patient ID =  108921\n",
      "Study Date =  20010102\n",
      "Study No. =  116\n",
      "Patient ID =  108921\n",
      "Study Date =  20000102\n",
      "Study No. =  117\n",
      "Patient ID =  108921\n",
      "Study Date =  19990102\n",
      "Study No. =  118\n",
      "Patient ID =  109031\n",
      "Study Date =  20010102\n",
      "Study No. =  119\n",
      "Patient ID =  109031\n",
      "Study Date =  20000102\n",
      "Study No. =  120\n",
      "Patient ID =  109031\n",
      "Study Date =  19990102\n",
      "Study No. =  121\n",
      "Patient ID =  109127\n",
      "Study Date =  20010102\n",
      "Study No. =  122\n",
      "Patient ID =  109127\n",
      "Study Date =  20000102\n",
      "Study No. =  123\n",
      "Patient ID =  109127\n",
      "Study Date =  19990102\n",
      "Study No. =  124\n",
      "Patient ID =  109965\n",
      "Study Date =  20010102\n",
      "Study No. =  125\n",
      "Patient ID =  109965\n",
      "Study Date =  20000102\n",
      "Study No. =  126\n",
      "Patient ID =  109965\n",
      "Study Date =  19990102\n",
      "Study No. =  127\n",
      "Patient ID =  110802\n",
      "Study Date =  20010102\n",
      "Study No. =  128\n",
      "Patient ID =  110802\n",
      "Study Date =  20000102\n",
      "Study No. =  129\n",
      "Patient ID =  110802\n",
      "Study Date =  19990102\n",
      "Study No. =  130\n",
      "Patient ID =  110919\n",
      "Study Date =  20010102\n",
      "Study No. =  131\n",
      "Patient ID =  110919\n",
      "Study Date =  20000102\n",
      "Study No. =  132\n",
      "Patient ID =  110919\n",
      "Study Date =  19990102\n",
      "Study No. =  133\n",
      "Patient ID =  110994\n",
      "Study Date =  20010102\n",
      "Study No. =  134\n",
      "Patient ID =  110994\n",
      "Study Date =  20000102\n",
      "Study No. =  135\n",
      "Patient ID =  110994\n",
      "Study Date =  19990102\n",
      "Study No. =  136\n",
      "Patient ID =  111452\n",
      "Study Date =  20010102\n",
      "Study No. =  137\n",
      "Patient ID =  111452\n",
      "Study Date =  20000102\n",
      "Study No. =  138\n",
      "Patient ID =  111452\n",
      "Study Date =  19990102\n",
      "Study No. =  139\n",
      "Patient ID =  111454\n",
      "Study Date =  20010102\n",
      "Study No. =  140\n",
      "Patient ID =  111454\n",
      "Study Date =  20000102\n",
      "Study No. =  141\n",
      "Patient ID =  111454\n",
      "Study Date =  19990102\n",
      "Study No. =  142\n",
      "Patient ID =  112180\n",
      "Study Date =  20010102\n",
      "Study No. =  143\n",
      "Patient ID =  112180\n",
      "Study Date =  20000102\n",
      "Study No. =  144\n",
      "Patient ID =  112180\n",
      "Study Date =  19990102\n",
      "Study No. =  145\n",
      "Patient ID =  112220\n",
      "Study Date =  20010102\n",
      "Study No. =  146\n",
      "Patient ID =  112220\n",
      "Study Date =  20000102\n",
      "Study No. =  147\n",
      "Patient ID =  112220\n",
      "Study Date =  19990102\n",
      "Study No. =  148\n",
      "Patient ID =  112506\n",
      "Study Date =  20010102\n",
      "Study No. =  149\n",
      "Patient ID =  112506\n",
      "Study Date =  20000102\n",
      "Study No. =  150\n",
      "Patient ID =  112506\n",
      "Study Date =  19990102\n",
      "Study No. =  151\n",
      "Patient ID =  112606\n",
      "Study Date =  20010102\n",
      "Study No. =  152\n",
      "Patient ID =  112606\n",
      "Study Date =  20000102\n",
      "Study No. =  153\n",
      "Patient ID =  112606\n",
      "Study Date =  19990102\n",
      "Study No. =  154\n",
      "Patient ID =  112786\n",
      "Study Date =  20010102\n",
      "Study No. =  155\n",
      "Patient ID =  112786\n",
      "Study Date =  20000102\n",
      "Study No. =  156\n",
      "Patient ID =  112786\n",
      "Study Date =  19990102\n",
      "Study No. =  157\n",
      "Patient ID =  112961\n",
      "Study Date =  20010102\n",
      "Study No. =  158\n",
      "Patient ID =  112961\n",
      "Study Date =  20000102\n",
      "Study No. =  159\n",
      "Patient ID =  112961\n",
      "Study Date =  19990102\n",
      "Study No. =  160\n",
      "Patient ID =  113014\n",
      "Study Date =  20010102\n",
      "Study No. =  161\n",
      "Patient ID =  113014\n",
      "Study Date =  20000102\n",
      "Study No. =  162\n",
      "Patient ID =  113014\n",
      "Study Date =  19990102\n",
      "Study No. =  163\n",
      "Patient ID =  113820\n",
      "Study Date =  20010102\n",
      "Study No. =  164\n",
      "Patient ID =  113820\n",
      "Study Date =  20000102\n",
      "Study No. =  165\n",
      "Patient ID =  113820\n",
      "Study Date =  19990102\n",
      "Study No. =  166\n",
      "Patient ID =  114517\n",
      "Study Date =  20010102\n",
      "Study No. =  167\n",
      "Patient ID =  114517\n",
      "Study Date =  20000102\n",
      "Study No. =  168\n",
      "Patient ID =  114517\n",
      "Study Date =  19990102\n",
      "Study No. =  169\n",
      "Patient ID =  114656\n",
      "Study Date =  20010102\n",
      "Study No. =  170\n",
      "Patient ID =  114656\n",
      "Study Date =  20000102\n",
      "Study No. =  171\n",
      "Patient ID =  114656\n",
      "Study Date =  19990102\n",
      "Study No. =  172\n",
      "Patient ID =  114796\n",
      "Study Date =  20010102\n",
      "Study No. =  173\n",
      "Patient ID =  114796\n",
      "Study Date =  20000102\n",
      "Study No. =  174\n",
      "Patient ID =  114796\n",
      "Study Date =  19990102\n",
      "Study No. =  175\n",
      "Patient ID =  115020\n",
      "Study Date =  20010102\n",
      "Study No. =  176\n",
      "Patient ID =  115020\n",
      "Study Date =  20000102\n",
      "Study No. =  177\n",
      "Patient ID =  115020\n",
      "Study Date =  19990102\n",
      "Study No. =  178\n",
      "Patient ID =  115175\n",
      "Study Date =  20010102\n",
      "Study No. =  179\n",
      "Patient ID =  115175\n",
      "Study Date =  20000102\n",
      "Study No. =  180\n",
      "Patient ID =  115175\n",
      "Study Date =  19990102\n",
      "Study No. =  181\n",
      "Patient ID =  115571\n",
      "Study Date =  20010102\n",
      "Study No. =  182\n",
      "Patient ID =  115571\n",
      "Study Date =  20000102\n",
      "Study No. =  183\n",
      "Patient ID =  115571\n",
      "Study Date =  19990102\n",
      "Study No. =  184\n",
      "Patient ID =  115772\n",
      "Study Date =  20010102\n",
      "Study No. =  185\n",
      "Patient ID =  115772\n",
      "Study Date =  20000102\n",
      "Study No. =  186\n",
      "Patient ID =  115772\n",
      "Study Date =  19990102\n",
      "Study No. =  187\n",
      "Patient ID =  115794\n",
      "Study Date =  20010102\n",
      "Study No. =  188\n",
      "Patient ID =  115794\n",
      "Study Date =  20000102\n",
      "Study No. =  189\n",
      "Patient ID =  115794\n",
      "Study Date =  19990102\n",
      "Study No. =  190\n",
      "Patient ID =  116383\n",
      "Study Date =  20010102\n",
      "Study No. =  191\n",
      "Patient ID =  116383\n",
      "Study Date =  20000102\n",
      "Study No. =  192\n",
      "Patient ID =  116383\n",
      "Study Date =  19990102\n",
      "Study No. =  193\n",
      "Patient ID =  117406\n",
      "Study Date =  20010102\n",
      "Study No. =  194\n",
      "Patient ID =  117406\n",
      "Study Date =  20000102\n",
      "Study No. =  195\n",
      "Patient ID =  117406\n",
      "Study Date =  19990102\n",
      "Study No. =  196\n",
      "Patient ID =  117490\n",
      "Study Date =  20010102\n",
      "Study No. =  197\n",
      "Patient ID =  117490\n",
      "Study Date =  20000102\n",
      "Study No. =  198\n",
      "Patient ID =  117490\n",
      "Study Date =  19990102\n",
      "Study No. =  199\n",
      "Patient ID =  117610\n",
      "Study Date =  20010102\n",
      "Study No. =  200\n",
      "Patient ID =  117610\n",
      "Study Date =  20000102\n",
      "Study No. =  201\n",
      "Patient ID =  117610\n",
      "Study Date =  19990102\n",
      "Study No. =  202\n",
      "Patient ID =  117950\n",
      "Study Date =  20010102\n",
      "Study No. =  203\n",
      "Patient ID =  117950\n",
      "Study Date =  20000102\n",
      "Study No. =  204\n",
      "Patient ID =  117950\n",
      "Study Date =  19990102\n",
      "Study No. =  205\n",
      "Patient ID =  118243\n",
      "Study Date =  20010102\n",
      "Study No. =  206\n",
      "Patient ID =  118243\n",
      "Study Date =  20000102\n",
      "Study No. =  207\n",
      "Patient ID =  118243\n",
      "Study Date =  19990102\n",
      "Study No. =  208\n",
      "Patient ID =  118297\n",
      "Study Date =  20010102\n",
      "Study No. =  209\n",
      "Patient ID =  118297\n",
      "Study Date =  20000102\n",
      "Study No. =  210\n",
      "Patient ID =  118297\n",
      "Study Date =  19990102\n",
      "Study No. =  211\n",
      "Patient ID =  118553\n",
      "Study Date =  20010102\n",
      "Study No. =  212\n",
      "Patient ID =  118553\n",
      "Study Date =  20000102\n",
      "Study No. =  213\n",
      "Patient ID =  118553\n",
      "Study Date =  19990102\n",
      "Study No. =  214\n",
      "Patient ID =  118602\n",
      "Study Date =  20010102\n",
      "Study No. =  215\n",
      "Patient ID =  118602\n",
      "Study Date =  20000102\n",
      "Study No. =  216\n",
      "Patient ID =  118602\n",
      "Study Date =  19990102\n",
      "Study No. =  217\n",
      "Patient ID =  118719\n",
      "Study Date =  20010102\n",
      "Study No. =  218\n",
      "Patient ID =  118719\n",
      "Study Date =  20000102\n",
      "Study No. =  219\n",
      "Patient ID =  118719\n",
      "Study Date =  19990102\n",
      "Study No. =  220\n",
      "Patient ID =  118745\n",
      "Study Date =  20010102\n",
      "Study No. =  221\n",
      "Patient ID =  118745\n",
      "Study Date =  20000102\n",
      "Study No. =  222\n",
      "Patient ID =  118745\n",
      "Study Date =  19990102\n",
      "Study No. =  223\n",
      "Patient ID =  119485\n",
      "Study Date =  20010102\n",
      "Study No. =  224\n",
      "Patient ID =  119485\n",
      "Study Date =  20000102\n",
      "Study No. =  225\n",
      "Patient ID =  119485\n",
      "Study Date =  19990102\n",
      "Study No. =  226\n",
      "Patient ID =  119533\n",
      "Study Date =  20010102\n",
      "Study No. =  227\n",
      "Patient ID =  119533\n",
      "Study Date =  20000102\n",
      "Study No. =  228\n",
      "Patient ID =  119533\n",
      "Study Date =  19990102\n",
      "Study No. =  229\n",
      "Patient ID =  119568\n",
      "Study Date =  20010102\n",
      "Study No. =  230\n",
      "Patient ID =  119568\n",
      "Study Date =  20000102\n",
      "Study No. =  231\n",
      "Patient ID =  119568\n",
      "Study Date =  19990102\n",
      "Study No. =  232\n",
      "Patient ID =  119894\n",
      "Study Date =  20010102\n",
      "Study No. =  233\n",
      "Patient ID =  119894\n",
      "Study Date =  20000102\n",
      "Study No. =  234\n",
      "Patient ID =  119894\n",
      "Study Date =  19990102\n",
      "Study No. =  235\n",
      "Patient ID =  119934\n",
      "Study Date =  20010102\n",
      "Study No. =  236\n",
      "Patient ID =  119934\n",
      "Study Date =  20000102\n",
      "Study No. =  237\n",
      "Patient ID =  119934\n",
      "Study Date =  19990102\n",
      "Study No. =  238\n",
      "Patient ID =  120070\n",
      "Study Date =  20010102\n",
      "Study No. =  239\n",
      "Patient ID =  120070\n",
      "Study Date =  20000102\n",
      "Study No. =  240\n",
      "Patient ID =  120070\n",
      "Study Date =  19990102\n",
      "Study No. =  241\n",
      "Patient ID =  120573\n",
      "Study Date =  20010102\n",
      "Study No. =  242\n",
      "Patient ID =  120573\n",
      "Study Date =  20000102\n",
      "Study No. =  243\n",
      "Patient ID =  120573\n",
      "Study Date =  19990102\n",
      "Study No. =  244\n",
      "Patient ID =  120593\n",
      "Study Date =  20010102\n",
      "Study No. =  245\n",
      "Patient ID =  120593\n",
      "Study Date =  20000102\n",
      "Study No. =  246\n",
      "Patient ID =  120593\n",
      "Study Date =  19990102\n",
      "Study No. =  247\n",
      "Patient ID =  120885\n",
      "Study Date =  20010102\n",
      "Study No. =  248\n",
      "Patient ID =  120885\n",
      "Study Date =  20000102\n",
      "Study No. =  249\n",
      "Patient ID =  120885\n",
      "Study Date =  19990102\n",
      "Study No. =  250\n",
      "Patient ID =  121657\n",
      "Study Date =  20010102\n",
      "Study No. =  251\n",
      "Patient ID =  121657\n",
      "Study Date =  20000102\n",
      "Study No. =  252\n",
      "Patient ID =  121657\n",
      "Study Date =  19990102\n",
      "Study No. =  253\n",
      "Patient ID =  121852\n",
      "Study Date =  20010102\n",
      "Study No. =  254\n",
      "Patient ID =  121852\n",
      "Study Date =  20000102\n",
      "Study No. =  255\n",
      "Patient ID =  121852\n",
      "Study Date =  19990102\n",
      "Study No. =  256\n",
      "Patient ID =  122078\n",
      "Study Date =  20010102\n",
      "Study No. =  257\n",
      "Patient ID =  122078\n",
      "Study Date =  20000102\n",
      "Study No. =  258\n",
      "Patient ID =  122078\n",
      "Study Date =  19990102\n",
      "Study No. =  259\n",
      "Patient ID =  122117\n",
      "Study Date =  20010102\n",
      "Study No. =  260\n",
      "Patient ID =  122117\n",
      "Study Date =  20000102\n",
      "Study No. =  261\n",
      "Patient ID =  122117\n",
      "Study Date =  19990102\n",
      "Study No. =  262\n",
      "Patient ID =  122159\n",
      "Study Date =  20010102\n",
      "Study No. =  263\n",
      "Patient ID =  122159\n",
      "Study Date =  20000102\n",
      "Study No. =  264\n",
      "Patient ID =  122159\n",
      "Study Date =  19990102\n",
      "Study No. =  265\n",
      "Patient ID =  122376\n",
      "Study Date =  20010102\n",
      "Study No. =  266\n",
      "Patient ID =  122376\n",
      "Study Date =  20000102\n",
      "Study No. =  267\n",
      "Patient ID =  122376\n",
      "Study Date =  19990102\n",
      "Study No. =  268\n",
      "Patient ID =  122378\n",
      "Study Date =  20010102\n",
      "Study No. =  269\n",
      "Patient ID =  122378\n",
      "Study Date =  20000102\n",
      "Study No. =  270\n",
      "Patient ID =  122378\n",
      "Study Date =  19990102\n",
      "Study No. =  271\n",
      "Patient ID =  122577\n",
      "Study Date =  20010102\n",
      "Study No. =  272\n",
      "Patient ID =  122577\n",
      "Study Date =  20000102\n",
      "Study No. =  273\n",
      "Patient ID =  122577\n",
      "Study Date =  19990102\n",
      "Study No. =  274\n",
      "Patient ID =  122590\n",
      "Study Date =  20010102\n",
      "Study No. =  275\n",
      "Patient ID =  122590\n",
      "Study Date =  20000102\n",
      "Study No. =  276\n",
      "Patient ID =  122590\n",
      "Study Date =  19990102\n",
      "Study No. =  277\n",
      "Patient ID =  123062\n",
      "Study Date =  20010102\n",
      "Study No. =  278\n",
      "Patient ID =  123062\n",
      "Study Date =  20000102\n",
      "Study No. =  279\n",
      "Patient ID =  123062\n",
      "Study Date =  19990102\n",
      "Study No. =  280\n",
      "Patient ID =  123810\n",
      "Study Date =  20010102\n",
      "Study No. =  281\n",
      "Patient ID =  123810\n",
      "Study Date =  20000102\n",
      "Study No. =  282\n",
      "Patient ID =  123810\n",
      "Study Date =  19990102\n",
      "Study No. =  283\n",
      "Patient ID =  123884\n",
      "Study Date =  20010102\n",
      "Study No. =  284\n",
      "Patient ID =  123884\n",
      "Study Date =  20000102\n",
      "Study No. =  285\n",
      "Patient ID =  123884\n",
      "Study Date =  19990102\n",
      "Study No. =  286\n",
      "Patient ID =  123891\n",
      "Study Date =  20010102\n",
      "Study No. =  287\n",
      "Patient ID =  123891\n",
      "Study Date =  20000102\n",
      "Study No. =  288\n",
      "Patient ID =  123891\n",
      "Study Date =  19990102\n",
      "Study No. =  289\n",
      "Patient ID =  124323\n",
      "Study Date =  20010102\n",
      "Study No. =  290\n",
      "Patient ID =  124323\n",
      "Study Date =  20000102\n",
      "Study No. =  291\n",
      "Patient ID =  124323\n",
      "Study Date =  19990102\n",
      "Study No. =  292\n",
      "Patient ID =  124607\n",
      "Study Date =  20010102\n",
      "Study No. =  293\n",
      "Patient ID =  124607\n",
      "Study Date =  20000102\n",
      "Study No. =  294\n",
      "Patient ID =  124607\n",
      "Study Date =  19990102\n",
      "Study No. =  295\n",
      "Patient ID =  124913\n",
      "Study Date =  20010102\n",
      "Study No. =  296\n",
      "Patient ID =  124913\n",
      "Study Date =  20000102\n",
      "Study No. =  297\n",
      "Patient ID =  124913\n",
      "Study Date =  19990102\n",
      "Study No. =  298\n",
      "Patient ID =  125028\n",
      "Study Date =  20010102\n",
      "Study No. =  299\n",
      "Patient ID =  125028\n",
      "Study Date =  20000102\n",
      "Study No. =  300\n",
      "Patient ID =  125028\n",
      "Study Date =  19990102\n",
      "Study No. =  301\n",
      "Patient ID =  125413\n",
      "Study Date =  20010102\n",
      "Study No. =  302\n",
      "Patient ID =  125413\n",
      "Study Date =  20000102\n",
      "Study No. =  303\n",
      "Patient ID =  125413\n",
      "Study Date =  19990102\n",
      "Study No. =  304\n",
      "Patient ID =  125697\n",
      "Study Date =  20010102\n",
      "Study No. =  305\n",
      "Patient ID =  125697\n",
      "Study Date =  20000102\n",
      "Study No. =  306\n",
      "Patient ID =  125697\n",
      "Study Date =  19990102\n",
      "Study No. =  307\n",
      "Patient ID =  125727\n",
      "Study Date =  20010102\n",
      "Study No. =  308\n",
      "Patient ID =  125727\n",
      "Study Date =  20000102\n",
      "Study No. =  309\n",
      "Patient ID =  125727\n",
      "Study Date =  19990102\n",
      "Study No. =  310\n",
      "Patient ID =  125898\n",
      "Study Date =  20010102\n",
      "Study No. =  311\n",
      "Patient ID =  125898\n",
      "Study Date =  20000102\n",
      "Study No. =  312\n",
      "Patient ID =  125898\n",
      "Study Date =  19990102\n",
      "Study No. =  313\n",
      "Patient ID =  126101\n",
      "Study Date =  20010102\n",
      "Study No. =  314\n",
      "Patient ID =  126101\n",
      "Study Date =  20000102\n",
      "Study No. =  315\n",
      "Patient ID =  126101\n",
      "Study Date =  19990102\n",
      "Study No. =  316\n",
      "Patient ID =  126581\n",
      "Study Date =  20010102\n",
      "Study No. =  317\n",
      "Patient ID =  126581\n",
      "Study Date =  20000102\n",
      "Study No. =  318\n",
      "Patient ID =  126581\n",
      "Study Date =  19990102\n",
      "Study No. =  319\n",
      "Patient ID =  126622\n",
      "Study Date =  20010102\n",
      "Study No. =  320\n",
      "Patient ID =  126622\n",
      "Study Date =  20000102\n",
      "Study No. =  321\n",
      "Patient ID =  126622\n",
      "Study Date =  19990102\n",
      "Study No. =  322\n",
      "Patient ID =  126718\n",
      "Study Date =  20010102\n",
      "Study No. =  323\n",
      "Patient ID =  126718\n",
      "Study Date =  20000102\n",
      "Study No. =  324\n",
      "Patient ID =  126718\n",
      "Study Date =  19990102\n",
      "Study No. =  325\n",
      "Patient ID =  126823\n",
      "Study Date =  20010102\n",
      "Study No. =  326\n",
      "Patient ID =  126823\n",
      "Study Date =  20000102\n",
      "Study No. =  327\n",
      "Patient ID =  126823\n",
      "Study Date =  19990102\n",
      "Study No. =  328\n",
      "Patient ID =  126928\n",
      "Study Date =  20010102\n",
      "Study No. =  329\n",
      "Patient ID =  126928\n",
      "Study Date =  20000102\n",
      "Study No. =  330\n",
      "Patient ID =  126928\n",
      "Study Date =  19990102\n",
      "Study No. =  331\n",
      "Patient ID =  127048\n",
      "Study Date =  20010102\n",
      "Study No. =  332\n",
      "Patient ID =  127048\n",
      "Study Date =  20000102\n",
      "Study No. =  333\n",
      "Patient ID =  127048\n",
      "Study Date =  19990102\n",
      "Study No. =  334\n",
      "Patient ID =  127731\n",
      "Study Date =  20010102\n",
      "Study No. =  335\n",
      "Patient ID =  127731\n",
      "Study Date =  20000102\n",
      "Study No. =  336\n",
      "Patient ID =  127731\n",
      "Study Date =  19990102\n",
      "Study No. =  337\n",
      "Patient ID =  127996\n",
      "Study Date =  20010102\n",
      "Study No. =  338\n",
      "Patient ID =  127996\n",
      "Study Date =  20000102\n",
      "Study No. =  339\n",
      "Patient ID =  127996\n",
      "Study Date =  19990102\n",
      "Study No. =  340\n",
      "Patient ID =  128033\n",
      "Study Date =  20010102\n",
      "Study No. =  341\n",
      "Patient ID =  128033\n",
      "Study Date =  20000102\n",
      "Study No. =  342\n",
      "Patient ID =  128033\n",
      "Study Date =  19990102\n",
      "Study No. =  343\n",
      "Patient ID =  128535\n",
      "Study Date =  20010102\n",
      "Study No. =  344\n",
      "Patient ID =  128535\n",
      "Study Date =  20000102\n",
      "Study No. =  345\n",
      "Patient ID =  128535\n",
      "Study Date =  19990102\n",
      "Study No. =  346\n",
      "Patient ID =  128601\n",
      "Study Date =  20010102\n",
      "Study No. =  347\n",
      "Patient ID =  128601\n",
      "Study Date =  20000102\n",
      "Study No. =  348\n",
      "Patient ID =  128601\n",
      "Study Date =  19990102\n",
      "Study No. =  349\n",
      "Patient ID =  128852\n",
      "Study Date =  20010102\n",
      "Study No. =  350\n",
      "Patient ID =  128852\n",
      "Study Date =  20000102\n",
      "Study No. =  351\n",
      "Patient ID =  128852\n",
      "Study Date =  19990102\n",
      "Study No. =  352\n",
      "Patient ID =  128899\n",
      "Study Date =  20010102\n",
      "Study No. =  353\n",
      "Patient ID =  128899\n",
      "Study Date =  20000102\n",
      "Study No. =  354\n",
      "Patient ID =  128899\n",
      "Study Date =  19990102\n",
      "Study No. =  355\n",
      "Patient ID =  129511\n",
      "Study Date =  20010102\n",
      "Study No. =  356\n",
      "Patient ID =  129511\n",
      "Study Date =  20000102\n",
      "Study No. =  357\n",
      "Patient ID =  129511\n",
      "Study Date =  19990102\n",
      "Study No. =  358\n",
      "Patient ID =  129534\n",
      "Study Date =  20010102\n",
      "Study No. =  359\n",
      "Patient ID =  129534\n",
      "Study Date =  20000102\n",
      "Study No. =  360\n",
      "Patient ID =  129534\n",
      "Study Date =  19990102\n",
      "Study No. =  361\n",
      "Patient ID =  129703\n",
      "Study Date =  20010102\n",
      "Study No. =  362\n",
      "Patient ID =  129703\n",
      "Study Date =  20000102\n",
      "Study No. =  363\n",
      "Patient ID =  129703\n",
      "Study Date =  19990102\n",
      "Study No. =  364\n",
      "Patient ID =  129734\n",
      "Study Date =  20010102\n",
      "Study No. =  365\n",
      "Patient ID =  129734\n",
      "Study Date =  20000102\n",
      "Study No. =  366\n",
      "Patient ID =  129734\n",
      "Study Date =  19990102\n",
      "Study No. =  367\n",
      "Patient ID =  130117\n",
      "Study Date =  20010102\n",
      "Study No. =  368\n",
      "Patient ID =  130117\n",
      "Study Date =  20000102\n",
      "Study No. =  369\n",
      "Patient ID =  130117\n",
      "Study Date =  19990102\n",
      "Study No. =  370\n",
      "Patient ID =  130173\n",
      "Study Date =  20010102\n",
      "Study No. =  371\n",
      "Patient ID =  130173\n",
      "Study Date =  20000102\n",
      "Study No. =  372\n",
      "Patient ID =  130173\n",
      "Study Date =  19990102\n",
      "Study No. =  373\n",
      "Patient ID =  130896\n",
      "Study Date =  20010102\n",
      "Study No. =  374\n",
      "Patient ID =  130896\n",
      "Study Date =  20000102\n",
      "Study No. =  375\n",
      "Patient ID =  130896\n",
      "Study Date =  19990102\n",
      "Study No. =  376\n",
      "Patient ID =  130950\n",
      "Study Date =  20010102\n",
      "Study No. =  377\n",
      "Patient ID =  130950\n",
      "Study Date =  20000102\n",
      "Study No. =  378\n",
      "Patient ID =  130950\n",
      "Study Date =  19990102\n",
      "Study No. =  379\n",
      "Patient ID =  131611\n",
      "Study Date =  20010102\n",
      "Study No. =  380\n",
      "Patient ID =  131611\n",
      "Study Date =  20000102\n",
      "Study No. =  381\n",
      "Patient ID =  131611\n",
      "Study Date =  19990102\n",
      "Study No. =  382\n",
      "Patient ID =  131963\n",
      "Study Date =  20010102\n",
      "Study No. =  383\n",
      "Patient ID =  131963\n",
      "Study Date =  20000102\n",
      "Study No. =  384\n",
      "Patient ID =  131963\n",
      "Study Date =  19990102\n",
      "Study No. =  385\n",
      "Patient ID =  131986\n",
      "Study Date =  20010102\n",
      "Study No. =  386\n",
      "Patient ID =  131986\n",
      "Study Date =  20000102\n",
      "Study No. =  387\n",
      "Patient ID =  131986\n",
      "Study Date =  19990102\n",
      "Study No. =  388\n",
      "Patient ID =  132313\n",
      "Study Date =  20010102\n",
      "Study No. =  389\n",
      "Patient ID =  132313\n",
      "Study Date =  20000102\n",
      "Study No. =  390\n",
      "Patient ID =  132313\n",
      "Study Date =  19990102\n",
      "Study No. =  391\n",
      "Patient ID =  132535\n",
      "Study Date =  20010102\n",
      "Study No. =  392\n",
      "Patient ID =  132535\n",
      "Study Date =  20000102\n",
      "Study No. =  393\n",
      "Patient ID =  132535\n",
      "Study Date =  19990102\n",
      "Study No. =  394\n",
      "Patient ID =  132823\n",
      "Study Date =  20010102\n",
      "Study No. =  395\n",
      "Patient ID =  132823\n",
      "Study Date =  20000102\n",
      "Study No. =  396\n",
      "Patient ID =  132823\n",
      "Study Date =  19990102\n",
      "Study No. =  397\n",
      "Patient ID =  132885\n",
      "Study Date =  20010102\n",
      "Study No. =  398\n",
      "Patient ID =  132885\n",
      "Study Date =  20000102\n",
      "Study No. =  399\n",
      "Patient ID =  132885\n",
      "Study Date =  19990102\n",
      "Study No. =  400\n",
      "Patient ID =  133076\n",
      "Study Date =  20010102\n",
      "Study No. =  401\n",
      "Patient ID =  133076\n",
      "Study Date =  20000102\n",
      "Study No. =  402\n",
      "Patient ID =  133076\n",
      "Study Date =  19990102\n",
      "Study No. =  403\n",
      "Patient ID =  133308\n",
      "Study Date =  20010102\n",
      "Study No. =  404\n",
      "Patient ID =  133308\n",
      "Study Date =  20000102\n",
      "Study No. =  405\n",
      "Patient ID =  133308\n",
      "Study Date =  19990102\n",
      "Study No. =  406\n",
      "Patient ID =  133991\n",
      "Study Date =  20010102\n",
      "Study No. =  407\n",
      "Patient ID =  133991\n",
      "Study Date =  20000102\n",
      "Study No. =  408\n",
      "Patient ID =  133991\n",
      "Study Date =  19990102\n",
      "Study No. =  409\n",
      "Patient ID =  134309\n",
      "Study Date =  20010102\n",
      "Study No. =  410\n",
      "Patient ID =  134309\n",
      "Study Date =  20000102\n",
      "Study No. =  411\n",
      "Patient ID =  134309\n",
      "Study Date =  19990102\n",
      "Study No. =  412\n",
      "Patient ID =  134491\n",
      "Study Date =  20010102\n",
      "Study No. =  413\n",
      "Patient ID =  134491\n",
      "Study Date =  20000102\n",
      "Study No. =  414\n",
      "Patient ID =  134491\n",
      "Study Date =  19990102\n",
      "Study No. =  415\n",
      "Patient ID =  134503\n",
      "Study Date =  20010102\n",
      "Study No. =  416\n",
      "Patient ID =  134503\n",
      "Study Date =  20000102\n",
      "Study No. =  417\n",
      "Patient ID =  134503\n",
      "Study Date =  19990102\n",
      "Study No. =  418\n",
      "Patient ID =  202611\n",
      "Study Date =  20010102\n",
      "Study No. =  419\n",
      "Patient ID =  202611\n",
      "Study Date =  20000102\n",
      "Study No. =  420\n",
      "Patient ID =  202611\n",
      "Study Date =  19990102\n",
      "Study No. =  421\n",
      "Patient ID =  210198\n",
      "Study Date =  20010102\n",
      "Study No. =  422\n",
      "Patient ID =  210198\n",
      "Study Date =  20000102\n",
      "Study No. =  423\n",
      "Patient ID =  210198\n",
      "Study Date =  19990102\n",
      "Study No. =  424\n",
      "Patient ID =  210483\n",
      "Study Date =  20010102\n",
      "Study No. =  425\n",
      "Patient ID =  210483\n",
      "Study Date =  20000102\n",
      "Study No. =  426\n",
      "Patient ID =  210483\n",
      "Study Date =  19990102\n",
      "Study No. =  427\n",
      "Patient ID =  211965\n",
      "Study Date =  20010102\n",
      "Study No. =  428\n",
      "Patient ID =  211965\n",
      "Study Date =  20000102\n",
      "Study No. =  429\n",
      "Patient ID =  211965\n",
      "Study Date =  19990102\n",
      "Study No. =  430\n",
      "Patient ID =  214553\n",
      "Study Date =  20010102\n",
      "Study No. =  431\n",
      "Patient ID =  214553\n",
      "Study Date =  20000102\n",
      "Study No. =  432\n",
      "Patient ID =  214553\n",
      "Study Date =  19990102\n",
      "Study No. =  433\n",
      "Patient ID =  218510\n",
      "Study Date =  20010102\n",
      "Study No. =  434\n",
      "Patient ID =  218510\n",
      "Study Date =  20000102\n",
      "Study No. =  435\n",
      "Patient ID =  218510\n",
      "Study Date =  19990102\n",
      "Execution time: 11416.435865879059 seconds\n"
     ]
    }
   ],
   "source": [
    "studies_dicom = [pydicom.dataset.Dataset.from_json(d) for d in all_studies]\n",
    "\n",
    "combat_key = ['PatientName', 'manufacturer', 'model', 'kernel', 'slice_thickness', 'pixel_spacing']\n",
    "CT_modality = ['CT']\n",
    "with open(os.path.join(main_dir,'results/combat_params_cohort2.csv'), mode='w', newline='') as csv_file1:\n",
    "    csv_writer_params = csv.writer(csv_file1)\n",
    "    combat_key = ['PatientName', 'PatientID', 'StudyDate', 'StudyInstanceUID', 'SeriesInstanceUID', 'SeriesDescription', 'ImageType', 'Manufacturer', 'ModelName', 'ConvolutionKernel',\n",
    "                  'ReconDiameter','SliceThickness', 'kVp','mAs', 'PixelSpacing']\n",
    "  \n",
    "    # Write the header\n",
    "    csv_writer_params.writerow(combat_key)\n",
    "    for num_std , study_dicom in enumerate(studies_dicom): \n",
    "        try: \n",
    "            #find the series instance ID from SEG file in each study\n",
    "            study_instance_uid = study_dicom['StudyInstanceUID'].value\n",
    "            study_date = study_dicom['StudyDate'].value\n",
    "            patient_ID = study_dicom['PatientID'].value\n",
    "            patient_name = study_dicom['PatientName'].value  \n",
    "            print('Study No. = ', num_std+1 )\n",
    "            print('Patient ID = ', patient_ID )\n",
    "            print('Study Date = ', study_date )\n",
    "            metadata_study = client_dcm.retrieve_study_metadata(study_instance_uid = study_instance_uid)\n",
    "            series = client_dcm.search_for_series(study_instance_uid=study_instance_uid)           \n",
    "#            num_CT = 0\n",
    "            for serie in series:\n",
    "                series_CT_dicom = pydicom.dataset.Dataset.from_json(serie)\n",
    "                if series_CT_dicom.Modality in CT_modality:                                  \n",
    "\n",
    "                    instances_ct = client_dcm.retrieve_series(study_instance_uid = study_instance_uid, \n",
    "                                                              series_instance_uid = series_CT_dicom['SeriesInstanceUID'].value)\n",
    "                    if len(instances_ct) > 5:                        \n",
    "                        series_instance_uid = series_CT_dicom['SeriesInstanceUID'].value\n",
    "                        sereies_description = series_CT_dicom.SeriesDescription\n",
    "                        image_type = instances_ct[0][0x00080008].value\n",
    "                        manufacturer = instances_ct[0][0x00080070].value\n",
    "                        model_name = instances_ct[0][0x00081090].value\n",
    "                        convolution_kernel = instances_ct[0][0x00181210].value\n",
    "                        recon_diameter = instances_ct[0][0x00181100].value\n",
    "                        slice_thickness = instances_ct[0][0x00180050].value\n",
    "                        kVp = instances_ct[0][0x00180060].value\n",
    "                        mAs = instances_ct[0][0x00181152].value\n",
    "                        pixel_spacing = instances_ct[0][0x00280030].value\n",
    "\n",
    "                        \n",
    "                        combat_value = [patient_name, patient_ID, study_date, study_instance_uid, series_instance_uid, sereies_description, image_type,  manufacturer, model_name, convolution_kernel,\n",
    "                                        recon_diameter, slice_thickness, kVp, mAs, pixel_spacing]\n",
    "\n",
    "                        csv_writer_params.writerow(combat_value)             \n",
    "                \n",
    "        except Exception as e:\n",
    "            print(f\"An error occurred: {str(e)}\")\n",
    "            \n",
    "\n",
    "     \n",
    "\n",
    "# get the end time\n",
    "et = time.time()\n",
    "\n",
    "# get the execution time\n",
    "elapsed_time = et - st\n",
    "print('Execution time:', elapsed_time, 'seconds')"
   ]
  },
  {
   "cell_type": "code",
   "execution_count": null,
   "id": "5d0ebf2e-702d-4acf-91bc-93b49cdc2515",
   "metadata": {},
   "outputs": [],
   "source": []
  }
 ],
 "metadata": {
  "kernelspec": {
   "display_name": "Python 3.11",
   "language": "python",
   "name": "python3"
  },
  "language_info": {
   "codemirror_mode": {
    "name": "ipython",
    "version": 3
   },
   "file_extension": ".py",
   "mimetype": "text/x-python",
   "name": "python",
   "nbconvert_exporter": "python",
   "pygments_lexer": "ipython3",
   "version": "3.11.2"
  }
 },
 "nbformat": 4,
 "nbformat_minor": 5
}
