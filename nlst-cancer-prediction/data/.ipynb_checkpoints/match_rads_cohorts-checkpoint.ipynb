{
 "cells": [
  {
   "cell_type": "code",
   "execution_count": 34,
   "id": "e051289a-baac-4eb6-b876-bb5059c18e49",
   "metadata": {
    "tags": []
   },
   "outputs": [],
   "source": [
    "import pandas as pd\n",
    "import numpy as np\n",
    "import os\n",
    "#Load the data\n",
    "main_dir= \"/home/ulaval.ca/lesee/projects/Project-NLST/\"\n",
    "\n",
    "\n",
    "\n",
    "df_cohort1_2_rads = pd.read_csv(os.path.join(main_dir,'results/cohort1_2_rads_combat_harmonized_notdropped.csv'))\n",
    "df_cohort_match = pd.read_csv(os.path.join(main_dir,'data/cohort1-T0-batch.csv'))\n",
    "\n",
    "# Identify unique values in the key column of df2\n",
    "df_cohort_match_key = df_cohort_match['SeriesInstanceUID'].unique()\n",
    "\n",
    "# Filter rows in df1 where the key column matches the unique values found in df2\n",
    "filtered_df_cohort1_2_rads = df_cohort1_2_rads[df_cohort1_2_rads['SeriesInstanceUID'].isin(df_cohort_match_key)]"
   ]
  },
  {
   "cell_type": "code",
   "execution_count": 35,
   "id": "2f0b2d72-f62a-4ccd-b85d-bb94e2fad4f0",
   "metadata": {
    "tags": []
   },
   "outputs": [
    {
     "name": "stdout",
     "output_type": "stream",
     "text": [
      "(254,)\n",
      "(254, 15)\n"
     ]
    }
   ],
   "source": [
    "print(np.shape(df_cohort_match_key))\n",
    "print(np.shape(df_cohort_match))\n",
    "#print(list(filtered_df_cohort1_2_rads.columns))"
   ]
  },
  {
   "cell_type": "code",
   "execution_count": 36,
   "id": "d1e0125c-b2bb-42ea-870c-9e90a0c3abae",
   "metadata": {
    "tags": []
   },
   "outputs": [
    {
     "name": "stdout",
     "output_type": "stream",
     "text": [
      "(208, 353)\n"
     ]
    }
   ],
   "source": [
    "df_rad_features = filtered_df_cohort1_2_rads.drop(columns=['StudyDate_x', 'SeriesInstanceUID'])\n",
    "#print(list(df_rad_features.columns))\n",
    "\n",
    "print(np.shape(df_rad_features_T0_train))"
   ]
  },
  {
   "cell_type": "code",
   "execution_count": 29,
   "id": "44ab452f-23d2-4442-b0a1-95501573489e",
   "metadata": {
    "tags": []
   },
   "outputs": [],
   "source": [
    "df_rad_features.to_csv(os.path.join(main_dir,'results/cohort1_T0_rads_combat_harmonized_notdropped.csv'), float_format='%.7f', index= False)"
   ]
  },
  {
   "cell_type": "code",
   "execution_count": null,
   "id": "3346eada-1685-463b-b304-7c3b8192d106",
   "metadata": {},
   "outputs": [],
   "source": []
  }
 ],
 "metadata": {
  "kernelspec": {
   "display_name": "Python 3.11",
   "language": "python",
   "name": "python3"
  },
  "language_info": {
   "codemirror_mode": {
    "name": "ipython",
    "version": 3
   },
   "file_extension": ".py",
   "mimetype": "text/x-python",
   "name": "python",
   "nbconvert_exporter": "python",
   "pygments_lexer": "ipython3",
   "version": "3.11.2"
  }
 },
 "nbformat": 4,
 "nbformat_minor": 5
}
